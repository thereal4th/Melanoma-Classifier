{
 "cells": [
  {
   "cell_type": "code",
   "execution_count": 1,
   "id": "af91e869-2be8-47e3-b08d-e7cb0d622eeb",
   "metadata": {},
   "outputs": [],
   "source": [
    "import torch\n",
    "from torch import nn\n",
    "from torchvision import transforms\n",
    "from PIL import Image\n",
    "from pathlib import Path\n",
    "import matplotlib.pyplot as plt\n",
    "\n",
    "device = torch.device(\"cuda\" if torch.cuda.is_available() else \"cpu\")\n",
    "\n",
    "# at the top of your notebook\n",
    "'''segmentation_transform = transforms.Compose([\n",
    "    transforms.Resize((300, 300)),\n",
    "    transforms.ToTensor(),\n",
    "    transforms.Normalize(mean=[0.485, 0.456, 0.406],\n",
    "                         std= [0.229, 0.224, 0.225])\n",
    "])\n",
    "'''\n",
    "\n",
    "segmentation_transform = transforms.Compose([\n",
    "    transforms.Resize((300, 300)),\n",
    "    transforms.ToTensor(),\n",
    "    transforms.Normalize(mean=[0.5, 0.5, 0.5], std=[0.5, 0.5, 0.5])\n",
    "])\n",
    "\n",
    "\n",
    "'''segmentation_transform = transforms.Compose([\n",
    "    transforms.Resize((300, 300)),\n",
    "    transforms.ToTensor()\n",
    "])'''\n",
    "\n",
    "classification_transform = transforms.Compose([\n",
    "    transforms.Resize((224, 224)),\n",
    "    transforms.ToTensor()\n",
    "])"
   ]
  },
  {
   "cell_type": "code",
   "execution_count": 2,
   "id": "0342b627-9c57-47f4-8089-a855c96210cc",
   "metadata": {},
   "outputs": [
    {
     "name": "stdout",
     "output_type": "stream",
     "text": [
      "20\n",
      "40\n",
      "80\n",
      "Computed in_features: 15680\n"
     ]
    }
   ],
   "source": [
    "# Model Architectures\n",
    "# Helper functions\n",
    "from PIL import ImageDraw\n",
    "\n",
    "class MelanomaClassifier(nn.Module):\n",
    "    \"\"\"\n",
    "    Model architecture TinyVGG from:\n",
    "    https://poloclub.github.io/cnn-explainer/\n",
    "    \"\"\"\n",
    "    def __init__(self, input_shape: int, hidden_units: int, output_shape: int) -> None:\n",
    "        super().__init__()\n",
    "        self.conv_block_1 = nn.Sequential(\n",
    "            nn.Conv2d(in_channels=input_shape,\n",
    "                      out_channels=hidden_units,\n",
    "                      kernel_size=3, # how big is the square that's going over the image?\n",
    "                      stride=1, # default\n",
    "                      padding=1), # options = \"valid\" (no padding) or \"same\" (output has same shape as input) or int for specific number\n",
    "            nn.ReLU(),\n",
    "            nn.Conv2d(in_channels=hidden_units,\n",
    "                      out_channels=hidden_units,\n",
    "                      kernel_size=3,\n",
    "                      stride=1,\n",
    "                      padding=1),\n",
    "            nn.ReLU(),\n",
    "            nn.MaxPool2d(kernel_size=2,\n",
    "                          stride=2) # default stride value is same as kernel_size\n",
    "\n",
    "        )\n",
    "\n",
    "        hidden_units_B = hidden_units * 2 #increase out-feautures hidden units (32 to 64)\n",
    "        print(hidden_units_B) # debug\n",
    "\n",
    "        self.conv_block_2 = nn.Sequential(\n",
    "            nn.Conv2d(hidden_units, hidden_units_B, kernel_size=3, padding=1),\n",
    "            nn.ReLU(),\n",
    "            nn.Conv2d(hidden_units_B, hidden_units_B, kernel_size=3, padding=1),\n",
    "            nn.ReLU(),\n",
    "            nn.MaxPool2d(2)\n",
    "        )\n",
    "\n",
    "        hidden_units = hidden_units_B * 2 #increase out-feautures hidden units_B (64 to 128)\n",
    "        print(hidden_units) # debug\n",
    "\n",
    "        self.conv_block_3 = nn.Sequential(\n",
    "            nn.Conv2d(hidden_units_B, hidden_units, kernel_size=3, padding=1),\n",
    "            nn.ReLU(),\n",
    "            nn.Conv2d(hidden_units, hidden_units, kernel_size=3, padding=1),\n",
    "            nn.ReLU(),\n",
    "            nn.MaxPool2d(2)\n",
    "        )\n",
    "\n",
    "        hidden_units_B = hidden_units * 2 #ncrease out-feautures hidden units (128 to 256)\n",
    "        print(hidden_units_B) # debug\n",
    "        \n",
    "        self.conv_block_4 = nn.Sequential(\n",
    "            nn.Conv2d(hidden_units, hidden_units_B, kernel_size=3, padding=1),\n",
    "            nn.ReLU(),\n",
    "            nn.Conv2d(hidden_units_B, hidden_units_B, kernel_size=3, padding=1),\n",
    "            nn.ReLU(),\n",
    "            nn.MaxPool2d(2)\n",
    "        )\n",
    "        \n",
    "        self._to_linear = None\n",
    "        self._compute_linear_input_size(input_shape) #dynamically compute in_features\n",
    "\n",
    "        self.classifier = nn.Sequential(\n",
    "            nn.Flatten(),\n",
    "            # Where did this in_features shape come from?\n",
    "            # It's because each layer of our network compresses and changes the shape of our input data.\n",
    "            nn.Linear(in_features=self._to_linear,\n",
    "                      out_features=output_shape)\n",
    "\n",
    "        )\n",
    "\n",
    "    # Function to automate the calculation of in_features for the final nn.linear layer by passing a dummy tensor into the model.\n",
    "    def _compute_linear_input_size(self, input_shape):\n",
    "        \"\"\"Pass a dummy tensor through conv layers by making an inference to determine in_features size.\"\"\"\n",
    "        with torch.no_grad():\n",
    "            dummy_input = torch.randn(1, input_shape, 224, 224)  # Dummy tensor input to simulate the changes of the in_features as a tensor passes the conv blocks.\n",
    "            output = self.conv_block_1(dummy_input)\n",
    "            output = self.conv_block_2(output)\n",
    "            output = self.conv_block_3(output)\n",
    "            output = self.conv_block_4(output)\n",
    "            self._to_linear = output.view(1, -1).shape[1]  # Flatten and get feature size\n",
    "            print(\"Computed in_features:\", self._to_linear)  # Debugging\n",
    "\n",
    "    def forward(self, x: torch.Tensor):\n",
    "        x = self.conv_block_1(x)\n",
    "        # print(x.shape)\n",
    "        x = self.conv_block_2(x)\n",
    "        # print(x.shape)\n",
    "        x = self.conv_block_3(x)\n",
    "        x = self.conv_block_4(x)\n",
    "        print(f\"Feature map shape before flattening: {x.shape}\")  # Debugging line\n",
    "        x = self.classifier(x)\n",
    "        # print(x.shape)\n",
    "        return x\n",
    "        # return self.classifier(self.conv_block_2(self.conv_block_1(x))) # <- leverage the benefits of operator fusion\n",
    "\n",
    "#create model instance\n",
    "torch.manual_seed(42)\n",
    "model_0 = MelanomaClassifier(input_shape=3, # number of color channels (3 for RGB)\n",
    "                hidden_units=10, #initial hidden units\n",
    "                output_shape=1).to(device)\n",
    "model_0\n",
    "\n",
    "def circular_crop(img, radius_ratio=0.4):\n",
    "    w, h = img.size\n",
    "    r = int(min(w, h) * radius_ratio)\n",
    "    cx, cy = w // 2, h // 2\n",
    "\n",
    "    mask = Image.new('L', (w, h), 0)\n",
    "    draw = ImageDraw.Draw(mask)\n",
    "    draw.ellipse((cx - r, cy - r, cx + r, cy + r), fill=255)\n",
    "\n",
    "    result = Image.new(\"RGB\", (w, h))\n",
    "    result.paste(img, mask=mask)\n",
    "    return result  # ✅ Return the masked (circularly cropped) image\n",
    "\n"
   ]
  },
  {
   "cell_type": "code",
   "execution_count": 3,
   "id": "ef7c6e0a-49d4-4377-9128-3fcbb9b82fc4",
   "metadata": {
    "scrolled": true
   },
   "outputs": [
    {
     "data": {
      "text/plain": [
       "<All keys matched successfully>"
      ]
     },
     "execution_count": 3,
     "metadata": {},
     "output_type": "execute_result"
    }
   ],
   "source": [
    "#set up UNet model and melanoma classifier model\n",
    "from model import UNet\n",
    "\n",
    "# instantiate & load weights\n",
    "seg_model = UNet(n_channels=3, n_classes=1, bilinear=False)\n",
    "seg_model.load_state_dict(torch.load(\n",
    "    'C:/Users/Fourth/models/unet_dice0.8369_save1746204838.pt',\n",
    "    map_location=device\n",
    "))\n",
    "seg_model.to(device).eval()\n",
    "\n",
    "#set up Melanoma Classifier model\n",
    "\n",
    "MODEL_PATH = Path(\"saved models\")\n",
    "MODEL_FILE = MODEL_PATH / \"model_with-UNET_epoch11_acc0.9014_thres0.5_minpixel5000_batch32_normalized.pth\"\n",
    "\n",
    "checkpoint = torch.load(MODEL_FILE)\n",
    "model_0.load_state_dict(checkpoint[\"model_state_dict\"])"
   ]
  },
  {
   "cell_type": "code",
   "execution_count": 4,
   "id": "ed211a31-8a12-45aa-9a78-f72a7a3ff38b",
   "metadata": {},
   "outputs": [],
   "source": [
    "import numpy as np\n",
    "import matplotlib.pyplot as plt\n",
    "from PIL import Image\n",
    "import torch\n",
    "import torchvision.transforms as transforms\n",
    "\n",
    "def predict_melanoma(image_path, seg_model, clf_model, threshold=0.5, min_pixels=5000):\n",
    "    original_image = Image.open(image_path).convert(\"RGB\")\n",
    "\n",
    "    # Step 1: Segment - Resize to 300x300\n",
    "    seg_input = segmentation_transform(original_image).unsqueeze(0).to(device)\n",
    "\n",
    "    with torch.no_grad():\n",
    "        mask_pred = seg_model(seg_input)\n",
    "        #mask_pred = torch.sigmoid(mask_pred)\n",
    "        mask_pred = (mask_pred > threshold).float()\n",
    "\n",
    "    mask_np = mask_pred.squeeze().cpu().numpy()\n",
    "\n",
    "    pixel_count = (mask_np > 0).sum()\n",
    "\n",
    "    if pixel_count < min_pixels:\n",
    "        print(f\"Applying circular crop (pixels={pixel_count})\")\n",
    "        processed_image = circular_crop(original_image)\n",
    "        final_mask = None\n",
    "    else:\n",
    "        print(f\"Applying segmentation mask crop (pixels={pixel_count})\")\n",
    "        # Resize mask to match original image\n",
    "        mask_resized = Image.fromarray((mask_np * 255).astype(\"uint8\")).resize(original_image.size)\n",
    "        mask_np_resized = np.array(mask_resized) / 255.0\n",
    "\n",
    "        image_np = np.array(original_image)\n",
    "        mask_np_exp = np.expand_dims(mask_np_resized, axis=-1)\n",
    "        segmented_np = (image_np * mask_np_exp).astype(\"uint8\")\n",
    "        processed_image = Image.fromarray(segmented_np)\n",
    "        final_mask = mask_resized\n",
    "\n",
    "    # Resize to 224x224 for classifier\n",
    "    clf_input = classification_transform(processed_image).unsqueeze(0).to(device)\n",
    "\n",
    "    with torch.no_grad():\n",
    "        output = clf_model(clf_input)\n",
    "        prob = torch.sigmoid(output).item()\n",
    "\n",
    "    return prob, original_image, final_mask, processed_image\n"
   ]
  },
  {
   "cell_type": "code",
   "execution_count": 5,
   "id": "77887698-16fc-45d7-82e7-373773120918",
   "metadata": {},
   "outputs": [
    {
     "name": "stdout",
     "output_type": "stream",
     "text": [
      "Applying circular crop (pixels=26)\n",
      "Feature map shape before flattening: torch.Size([1, 80, 14, 14])\n",
      "Melanoma probability: 0.0107\n"
     ]
    },
    {
     "data": {
      "image/png": "[encoded data removed]",
      "text/plain": [
       "<Figure size 1200x400 with 2 Axes>"
      ]
     },
     "metadata": {},
     "output_type": "display_data"
    }
   ],
   "source": [
    "image_path = \"C:/Users/Fourth/test images/melanoma_nash.jpg\"\n",
    "prob, orig_img, mask_img, proc_img = predict_melanoma(image_path, seg_model, model_0)\n",
    "\n",
    "print(f\"Melanoma probability: {prob:.4f}\")\n",
    "\n",
    "# Plot\n",
    "fig, axs = plt.subplots(1, 3 if mask_img else 2, figsize=(12, 4))\n",
    "\n",
    "axs[0].imshow(orig_img)\n",
    "axs[0].set_title(\"Original Image\")\n",
    "axs[0].axis(\"off\")\n",
    "\n",
    "if mask_img:\n",
    "    axs[1].imshow(mask_img, cmap=\"gray\")\n",
    "    axs[1].set_title(\"Segmentation Mask\")\n",
    "    axs[1].axis(\"off\")\n",
    "\n",
    "    axs[2].imshow(proc_img)\n",
    "    axs[2].set_title(\"Segmented Image\")\n",
    "    axs[2].axis(\"off\")\n",
    "else:\n",
    "    axs[1].imshow(proc_img)\n",
    "    axs[1].set_title(\"Cropped Image\")\n",
    "    axs[1].axis(\"off\")\n",
    "\n",
    "plt.tight_layout()\n",
    "plt.show()\n"
   ]
  },
  {
   "cell_type": "code",
   "execution_count": 6,
   "id": "0f42f6eb-3a4e-4a61-bdce-af1c5b113dd4",
   "metadata": {},
   "outputs": [
    {
     "name": "stderr",
     "output_type": "stream",
     "text": [
      "Evaluating:   0%|▎                                                                     | 4/984 [00:00<00:30, 31.84it/s]"
     ]
    },
    {
     "name": "stdout",
     "output_type": "stream",
     "text": [
      "Feature map shape before flattening: torch.Size([1, 80, 14, 14])\n",
      "Feature map shape before flattening: torch.Size([1, 80, 14, 14])\n",
      "Feature map shape before flattening: torch.Size([1, 80, 14, 14])\n",
      "Feature map shape before flattening: torch.Size([1, 80, 14, 14])\n",
      "Feature map shape before flattening: torch.Size([1, 80, 14, 14])\n",
      "Feature map shape before flattening: torch.Size([1, 80, 14, 14])\n",
      "Feature map shape before flattening: torch.Size([1, 80, 14, 14])\n"
     ]
    },
    {
     "name": "stderr",
     "output_type": "stream",
     "text": [
      "Evaluating:   1%|▊                                                                    | 12/984 [00:00<00:27, 34.78it/s]"
     ]
    },
    {
     "name": "stdout",
     "output_type": "stream",
     "text": [
      "Feature map shape before flattening: torch.Size([1, 80, 14, 14])\n",
      "Feature map shape before flattening: torch.Size([1, 80, 14, 14])\n",
      "Feature map shape before flattening: torch.Size([1, 80, 14, 14])\n",
      "Feature map shape before flattening: torch.Size([1, 80, 14, 14])\n",
      "Feature map shape before flattening: torch.Size([1, 80, 14, 14])\n",
      "Feature map shape before flattening: torch.Size([1, 80, 14, 14])\n",
      "Feature map shape before flattening: torch.Size([1, 80, 14, 14])\n",
      "Feature map shape before flattening: torch.Size([1, 80, 14, 14])\n"
     ]
    },
    {
     "name": "stderr",
     "output_type": "stream",
     "text": [
      "Evaluating:   2%|█▍                                                                   | 20/984 [00:00<00:28, 33.59it/s]"
     ]
    },
    {
     "name": "stdout",
     "output_type": "stream",
     "text": [
      "Feature map shape before flattening: torch.Size([1, 80, 14, 14])\n",
      "Feature map shape before flattening: torch.Size([1, 80, 14, 14])\n",
      "Feature map shape before flattening: torch.Size([1, 80, 14, 14])\n",
      "Feature map shape before flattening: torch.Size([1, 80, 14, 14])\n",
      "Feature map shape before flattening: torch.Size([1, 80, 14, 14])\n",
      "Feature map shape before flattening: torch.Size([1, 80, 14, 14])\n",
      "Feature map shape before flattening: torch.Size([1, 80, 14, 14])\n",
      "Feature map shape before flattening: torch.Size([1, 80, 14, 14])\n"
     ]
    },
    {
     "name": "stderr",
     "output_type": "stream",
     "text": [
      "Evaluating:   3%|█▉                                                                   | 28/984 [00:00<00:27, 35.23it/s]"
     ]
    },
    {
     "name": "stdout",
     "output_type": "stream",
     "text": [
      "Feature map shape before flattening: torch.Size([1, 80, 14, 14])\n",
      "Feature map shape before flattening: torch.Size([1, 80, 14, 14])\n",
      "Feature map shape before flattening: torch.Size([1, 80, 14, 14])\n",
      "Feature map shape before flattening: torch.Size([1, 80, 14, 14])\n",
      "Feature map shape before flattening: torch.Size([1, 80, 14, 14])\n",
      "Feature map shape before flattening: torch.Size([1, 80, 14, 14])\n",
      "Feature map shape before flattening: torch.Size([1, 80, 14, 14])\n",
      "Feature map shape before flattening: torch.Size([1, 80, 14, 14])\n",
      "Feature map shape before flattening: torch.Size([1, 80, 14, 14])\n"
     ]
    },
    {
     "name": "stderr",
     "output_type": "stream",
     "text": [
      "Evaluating:   4%|██▌                                                                  | 36/984 [00:01<00:26, 36.21it/s]"
     ]
    },
    {
     "name": "stdout",
     "output_type": "stream",
     "text": [
      "Feature map shape before flattening: torch.Size([1, 80, 14, 14])\n",
      "Feature map shape before flattening: torch.Size([1, 80, 14, 14])\n",
      "Feature map shape before flattening: torch.Size([1, 80, 14, 14])\n",
      "Feature map shape before flattening: torch.Size([1, 80, 14, 14])\n",
      "Feature map shape before flattening: torch.Size([1, 80, 14, 14])\n",
      "Feature map shape before flattening: torch.Size([1, 80, 14, 14])\n",
      "Feature map shape before flattening: torch.Size([1, 80, 14, 14])\n"
     ]
    },
    {
     "name": "stderr",
     "output_type": "stream",
     "text": [
      "Evaluating:   4%|███                                                                  | 44/984 [00:01<00:25, 36.38it/s]"
     ]
    },
    {
     "name": "stdout",
     "output_type": "stream",
     "text": [
      "Feature map shape before flattening: torch.Size([1, 80, 14, 14])\n",
      "Feature map shape before flattening: torch.Size([1, 80, 14, 14])\n",
      "Feature map shape before flattening: torch.Size([1, 80, 14, 14])\n",
      "Feature map shape before flattening: torch.Size([1, 80, 14, 14])\n",
      "Feature map shape before flattening: torch.Size([1, 80, 14, 14])\n",
      "Feature map shape before flattening: torch.Size([1, 80, 14, 14])\n",
      "Feature map shape before flattening: torch.Size([1, 80, 14, 14])\n",
      "Feature map shape before flattening: torch.Size([1, 80, 14, 14])\n"
     ]
    },
    {
     "name": "stderr",
     "output_type": "stream",
     "text": [
      "Evaluating:   5%|███▋                                                                 | 52/984 [00:01<00:25, 36.73it/s]"
     ]
    },
    {
     "name": "stdout",
     "output_type": "stream",
     "text": [
      "Feature map shape before flattening: torch.Size([1, 80, 14, 14])\n",
      "Feature map shape before flattening: torch.Size([1, 80, 14, 14])\n",
      "Feature map shape before flattening: torch.Size([1, 80, 14, 14])\n",
      "Feature map shape before flattening: torch.Size([1, 80, 14, 14])\n",
      "Feature map shape before flattening: torch.Size([1, 80, 14, 14])\n",
      "Feature map shape before flattening: torch.Size([1, 80, 14, 14])\n",
      "Feature map shape before flattening: torch.Size([1, 80, 14, 14])\n",
      "Feature map shape before flattening: torch.Size([1, 80, 14, 14])\n"
     ]
    },
    {
     "name": "stderr",
     "output_type": "stream",
     "text": [
      "Evaluating:   6%|████▏                                                                | 60/984 [00:01<00:24, 37.31it/s]"
     ]
    },
    {
     "name": "stdout",
     "output_type": "stream",
     "text": [
      "Feature map shape before flattening: torch.Size([1, 80, 14, 14])\n",
      "Feature map shape before flattening: torch.Size([1, 80, 14, 14])\n",
      "Feature map shape before flattening: torch.Size([1, 80, 14, 14])\n",
      "Feature map shape before flattening: torch.Size([1, 80, 14, 14])\n",
      "Feature map shape before flattening: torch.Size([1, 80, 14, 14])\n",
      "Feature map shape before flattening: torch.Size([1, 80, 14, 14])\n",
      "Feature map shape before flattening: torch.Size([1, 80, 14, 14])\n",
      "Feature map shape before flattening: torch.Size([1, 80, 14, 14])\n"
     ]
    },
    {
     "name": "stderr",
     "output_type": "stream",
     "text": [
      "Evaluating:   7%|████▊                                                                | 68/984 [00:01<00:24, 37.18it/s]"
     ]
    },
    {
     "name": "stdout",
     "output_type": "stream",
     "text": [
      "Feature map shape before flattening: torch.Size([1, 80, 14, 14])\n",
      "Feature map shape before flattening: torch.Size([1, 80, 14, 14])\n",
      "Feature map shape before flattening: torch.Size([1, 80, 14, 14])\n",
      "Feature map shape before flattening: torch.Size([1, 80, 14, 14])\n",
      "Feature map shape before flattening: torch.Size([1, 80, 14, 14])\n",
      "Feature map shape before flattening: torch.Size([1, 80, 14, 14])\n",
      "Feature map shape before flattening: torch.Size([1, 80, 14, 14])\n",
      "Feature map shape before flattening: torch.Size([1, 80, 14, 14])\n"
     ]
    },
    {
     "name": "stderr",
     "output_type": "stream",
     "text": [
      "Evaluating:   8%|█████▎                                                               | 76/984 [00:02<00:24, 36.44it/s]"
     ]
    },
    {
     "name": "stdout",
     "output_type": "stream",
     "text": [
      "Feature map shape before flattening: torch.Size([1, 80, 14, 14])\n",
      "Feature map shape before flattening: torch.Size([1, 80, 14, 14])\n",
      "Feature map shape before flattening: torch.Size([1, 80, 14, 14])\n",
      "Feature map shape before flattening: torch.Size([1, 80, 14, 14])\n",
      "Feature map shape before flattening: torch.Size([1, 80, 14, 14])\n",
      "Feature map shape before flattening: torch.Size([1, 80, 14, 14])\n",
      "Feature map shape before flattening: torch.Size([1, 80, 14, 14])\n"
     ]
    },
    {
     "name": "stderr",
     "output_type": "stream",
     "text": [
      "Evaluating:   9%|█████▉                                                               | 84/984 [00:02<00:25, 35.84it/s]"
     ]
    },
    {
     "name": "stdout",
     "output_type": "stream",
     "text": [
      "Feature map shape before flattening: torch.Size([1, 80, 14, 14])\n",
      "Feature map shape before flattening: torch.Size([1, 80, 14, 14])\n",
      "Feature map shape before flattening: torch.Size([1, 80, 14, 14])\n",
      "Feature map shape before flattening: torch.Size([1, 80, 14, 14])\n",
      "Feature map shape before flattening: torch.Size([1, 80, 14, 14])\n",
      "Feature map shape before flattening: torch.Size([1, 80, 14, 14])\n",
      "Feature map shape before flattening: torch.Size([1, 80, 14, 14])\n",
      "Feature map shape before flattening: torch.Size([1, 80, 14, 14])\n"
     ]
    },
    {
     "name": "stderr",
     "output_type": "stream",
     "text": [
      "Evaluating:   9%|██████▍                                                              | 92/984 [00:02<00:24, 36.70it/s]"
     ]
    },
    {
     "name": "stdout",
     "output_type": "stream",
     "text": [
      "Feature map shape before flattening: torch.Size([1, 80, 14, 14])\n",
      "Feature map shape before flattening: torch.Size([1, 80, 14, 14])\n",
      "Feature map shape before flattening: torch.Size([1, 80, 14, 14])\n",
      "Feature map shape before flattening: torch.Size([1, 80, 14, 14])\n",
      "Feature map shape before flattening: torch.Size([1, 80, 14, 14])\n",
      "Feature map shape before flattening: torch.Size([1, 80, 14, 14])\n",
      "Feature map shape before flattening: torch.Size([1, 80, 14, 14])\n",
      "Feature map shape before flattening: torch.Size([1, 80, 14, 14])\n"
     ]
    },
    {
     "name": "stderr",
     "output_type": "stream",
     "text": [
      "Evaluating:  10%|██████▉                                                             | 100/984 [00:02<00:24, 36.21it/s]"
     ]
    },
    {
     "name": "stdout",
     "output_type": "stream",
     "text": [
      "Feature map shape before flattening: torch.Size([1, 80, 14, 14])\n",
      "Feature map shape before flattening: torch.Size([1, 80, 14, 14])\n",
      "Feature map shape before flattening: torch.Size([1, 80, 14, 14])\n",
      "Feature map shape before flattening: torch.Size([1, 80, 14, 14])\n",
      "Feature map shape before flattening: torch.Size([1, 80, 14, 14])\n",
      "Feature map shape before flattening: torch.Size([1, 80, 14, 14])\n",
      "Feature map shape before flattening: torch.Size([1, 80, 14, 14])\n",
      "Feature map shape before flattening: torch.Size([1, 80, 14, 14])\n"
     ]
    },
    {
     "name": "stderr",
     "output_type": "stream",
     "text": [
      "Evaluating:  11%|███████▍                                                            | 108/984 [00:03<00:24, 35.75it/s]"
     ]
    },
    {
     "name": "stdout",
     "output_type": "stream",
     "text": [
      "Feature map shape before flattening: torch.Size([1, 80, 14, 14])\n",
      "Feature map shape before flattening: torch.Size([1, 80, 14, 14])\n",
      "Feature map shape before flattening: torch.Size([1, 80, 14, 14])\n",
      "Feature map shape before flattening: torch.Size([1, 80, 14, 14])\n",
      "Feature map shape before flattening: torch.Size([1, 80, 14, 14])\n",
      "Feature map shape before flattening: torch.Size([1, 80, 14, 14])\n",
      "Feature map shape before flattening: torch.Size([1, 80, 14, 14])\n"
     ]
    },
    {
     "name": "stderr",
     "output_type": "stream",
     "text": [
      "Evaluating:  12%|████████                                                            | 116/984 [00:03<00:24, 34.97it/s]"
     ]
    },
    {
     "name": "stdout",
     "output_type": "stream",
     "text": [
      "Feature map shape before flattening: torch.Size([1, 80, 14, 14])\n",
      "Feature map shape before flattening: torch.Size([1, 80, 14, 14])\n",
      "Feature map shape before flattening: torch.Size([1, 80, 14, 14])\n",
      "Feature map shape before flattening: torch.Size([1, 80, 14, 14])\n",
      "Feature map shape before flattening: torch.Size([1, 80, 14, 14])\n",
      "Feature map shape before flattening: torch.Size([1, 80, 14, 14])\n",
      "Feature map shape before flattening: torch.Size([1, 80, 14, 14])\n",
      "Feature map shape before flattening: torch.Size([1, 80, 14, 14])\n"
     ]
    },
    {
     "name": "stderr",
     "output_type": "stream",
     "text": [
      "Evaluating:  13%|████████▌                                                           | 124/984 [00:03<00:23, 36.35it/s]"
     ]
    },
    {
     "name": "stdout",
     "output_type": "stream",
     "text": [
      "Feature map shape before flattening: torch.Size([1, 80, 14, 14])\n",
      "Feature map shape before flattening: torch.Size([1, 80, 14, 14])\n",
      "Feature map shape before flattening: torch.Size([1, 80, 14, 14])\n",
      "Feature map shape before flattening: torch.Size([1, 80, 14, 14])\n",
      "Feature map shape before flattening: torch.Size([1, 80, 14, 14])\n",
      "Feature map shape before flattening: torch.Size([1, 80, 14, 14])\n",
      "Feature map shape before flattening: torch.Size([1, 80, 14, 14])\n",
      "Feature map shape before flattening: torch.Size([1, 80, 14, 14])\n"
     ]
    },
    {
     "name": "stderr",
     "output_type": "stream",
     "text": [
      "Evaluating:  13%|█████████                                                           | 132/984 [00:03<00:23, 36.43it/s]"
     ]
    },
    {
     "name": "stdout",
     "output_type": "stream",
     "text": [
      "Feature map shape before flattening: torch.Size([1, 80, 14, 14])\n",
      "Feature map shape before flattening: torch.Size([1, 80, 14, 14])\n",
      "Feature map shape before flattening: torch.Size([1, 80, 14, 14])\n",
      "Feature map shape before flattening: torch.Size([1, 80, 14, 14])\n",
      "Feature map shape before flattening: torch.Size([1, 80, 14, 14])\n",
      "Feature map shape before flattening: torch.Size([1, 80, 14, 14])\n",
      "Feature map shape before flattening: torch.Size([1, 80, 14, 14])\n",
      "Feature map shape before flattening: torch.Size([1, 80, 14, 14])\n"
     ]
    },
    {
     "name": "stderr",
     "output_type": "stream",
     "text": [
      "Evaluating:  14%|█████████▋                                                          | 140/984 [00:03<00:23, 35.81it/s]"
     ]
    },
    {
     "name": "stdout",
     "output_type": "stream",
     "text": [
      "Feature map shape before flattening: torch.Size([1, 80, 14, 14])\n",
      "Feature map shape before flattening: torch.Size([1, 80, 14, 14])\n",
      "Feature map shape before flattening: torch.Size([1, 80, 14, 14])\n",
      "Feature map shape before flattening: torch.Size([1, 80, 14, 14])\n",
      "Feature map shape before flattening: torch.Size([1, 80, 14, 14])\n",
      "Feature map shape before flattening: torch.Size([1, 80, 14, 14])\n",
      "Feature map shape before flattening: torch.Size([1, 80, 14, 14])\n",
      "Feature map shape before flattening: torch.Size([1, 80, 14, 14])\n"
     ]
    },
    {
     "name": "stderr",
     "output_type": "stream",
     "text": [
      "Evaluating:  15%|██████████▏                                                         | 148/984 [00:04<00:23, 36.14it/s]"
     ]
    },
    {
     "name": "stdout",
     "output_type": "stream",
     "text": [
      "Feature map shape before flattening: torch.Size([1, 80, 14, 14])\n",
      "Feature map shape before flattening: torch.Size([1, 80, 14, 14])\n",
      "Feature map shape before flattening: torch.Size([1, 80, 14, 14])\n",
      "Feature map shape before flattening: torch.Size([1, 80, 14, 14])\n",
      "Feature map shape before flattening: torch.Size([1, 80, 14, 14])\n",
      "Feature map shape before flattening: torch.Size([1, 80, 14, 14])\n",
      "Feature map shape before flattening: torch.Size([1, 80, 14, 14])\n",
      "Feature map shape before flattening: torch.Size([1, 80, 14, 14])\n"
     ]
    },
    {
     "name": "stderr",
     "output_type": "stream",
     "text": [
      "Evaluating:  16%|██████████▊                                                         | 156/984 [00:04<00:23, 35.56it/s]"
     ]
    },
    {
     "name": "stdout",
     "output_type": "stream",
     "text": [
      "Feature map shape before flattening: torch.Size([1, 80, 14, 14])\n",
      "Feature map shape before flattening: torch.Size([1, 80, 14, 14])\n",
      "Feature map shape before flattening: torch.Size([1, 80, 14, 14])\n",
      "Feature map shape before flattening: torch.Size([1, 80, 14, 14])\n",
      "Feature map shape before flattening: torch.Size([1, 80, 14, 14])\n",
      "Feature map shape before flattening: torch.Size([1, 80, 14, 14])\n",
      "Feature map shape before flattening: torch.Size([1, 80, 14, 14])\n",
      "Feature map shape before flattening: torch.Size([1, 80, 14, 14])\n"
     ]
    },
    {
     "name": "stderr",
     "output_type": "stream",
     "text": [
      "Evaluating:  17%|███████████▎                                                        | 164/984 [00:04<00:22, 36.36it/s]"
     ]
    },
    {
     "name": "stdout",
     "output_type": "stream",
     "text": [
      "Feature map shape before flattening: torch.Size([1, 80, 14, 14])\n",
      "Feature map shape before flattening: torch.Size([1, 80, 14, 14])\n",
      "Feature map shape before flattening: torch.Size([1, 80, 14, 14])\n",
      "Feature map shape before flattening: torch.Size([1, 80, 14, 14])\n",
      "Feature map shape before flattening: torch.Size([1, 80, 14, 14])\n",
      "Feature map shape before flattening: torch.Size([1, 80, 14, 14])\n",
      "Feature map shape before flattening: torch.Size([1, 80, 14, 14])\n",
      "Feature map shape before flattening: torch.Size([1, 80, 14, 14])\n"
     ]
    },
    {
     "name": "stderr",
     "output_type": "stream",
     "text": [
      "Evaluating:  17%|███████████▉                                                        | 172/984 [00:04<00:22, 35.33it/s]"
     ]
    },
    {
     "name": "stdout",
     "output_type": "stream",
     "text": [
      "Feature map shape before flattening: torch.Size([1, 80, 14, 14])\n",
      "Feature map shape before flattening: torch.Size([1, 80, 14, 14])\n",
      "Feature map shape before flattening: torch.Size([1, 80, 14, 14])\n",
      "Feature map shape before flattening: torch.Size([1, 80, 14, 14])\n",
      "Feature map shape before flattening: torch.Size([1, 80, 14, 14])\n",
      "Feature map shape before flattening: torch.Size([1, 80, 14, 14])\n",
      "Feature map shape before flattening: torch.Size([1, 80, 14, 14])\n"
     ]
    },
    {
     "name": "stderr",
     "output_type": "stream",
     "text": [
      "Evaluating:  18%|████████████▏                                                       | 176/984 [00:04<00:22, 35.68it/s]"
     ]
    },
    {
     "name": "stdout",
     "output_type": "stream",
     "text": [
      "Feature map shape before flattening: torch.Size([1, 80, 14, 14])\n",
      "Feature map shape before flattening: torch.Size([1, 80, 14, 14])\n",
      "Feature map shape before flattening: torch.Size([1, 80, 14, 14])\n",
      "Feature map shape before flattening: torch.Size([1, 80, 14, 14])\n",
      "Feature map shape before flattening: torch.Size([1, 80, 14, 14])\n",
      "Feature map shape before flattening: torch.Size([1, 80, 14, 14])\n",
      "Feature map shape before flattening: torch.Size([1, 80, 14, 14])\n"
     ]
    },
    {
     "name": "stderr",
     "output_type": "stream",
     "text": [
      "Evaluating:  19%|████████████▋                                                       | 184/984 [00:05<00:22, 35.80it/s]"
     ]
    },
    {
     "name": "stdout",
     "output_type": "stream",
     "text": [
      "Feature map shape before flattening: torch.Size([1, 80, 14, 14])\n",
      "Feature map shape before flattening: torch.Size([1, 80, 14, 14])\n",
      "Feature map shape before flattening: torch.Size([1, 80, 14, 14])\n",
      "Feature map shape before flattening: torch.Size([1, 80, 14, 14])\n",
      "Feature map shape before flattening: torch.Size([1, 80, 14, 14])\n",
      "Feature map shape before flattening: torch.Size([1, 80, 14, 14])\n",
      "Feature map shape before flattening: torch.Size([1, 80, 14, 14])\n",
      "Feature map shape before flattening: torch.Size([1, 80, 14, 14])\n"
     ]
    },
    {
     "name": "stderr",
     "output_type": "stream",
     "text": [
      "Evaluating:  20%|█████████████▎                                                      | 192/984 [00:05<00:21, 36.08it/s]"
     ]
    },
    {
     "name": "stdout",
     "output_type": "stream",
     "text": [
      "Feature map shape before flattening: torch.Size([1, 80, 14, 14])\n",
      "Feature map shape before flattening: torch.Size([1, 80, 14, 14])\n",
      "Feature map shape before flattening: torch.Size([1, 80, 14, 14])\n",
      "Feature map shape before flattening: torch.Size([1, 80, 14, 14])\n",
      "Feature map shape before flattening: torch.Size([1, 80, 14, 14])\n",
      "Feature map shape before flattening: torch.Size([1, 80, 14, 14])\n",
      "Feature map shape before flattening: torch.Size([1, 80, 14, 14])\n",
      "Feature map shape before flattening: torch.Size([1, 80, 14, 14])\n"
     ]
    },
    {
     "name": "stderr",
     "output_type": "stream",
     "text": [
      "Evaluating:  20%|█████████████▊                                                      | 200/984 [00:05<00:22, 35.30it/s]"
     ]
    },
    {
     "name": "stdout",
     "output_type": "stream",
     "text": [
      "Feature map shape before flattening: torch.Size([1, 80, 14, 14])\n",
      "Feature map shape before flattening: torch.Size([1, 80, 14, 14])\n",
      "Feature map shape before flattening: torch.Size([1, 80, 14, 14])\n",
      "Feature map shape before flattening: torch.Size([1, 80, 14, 14])\n",
      "Feature map shape before flattening: torch.Size([1, 80, 14, 14])\n",
      "Feature map shape before flattening: torch.Size([1, 80, 14, 14])\n",
      "Feature map shape before flattening: torch.Size([1, 80, 14, 14])\n"
     ]
    },
    {
     "name": "stderr",
     "output_type": "stream",
     "text": [
      "Evaluating:  21%|██████████████▎                                                     | 208/984 [00:05<00:21, 35.70it/s]"
     ]
    },
    {
     "name": "stdout",
     "output_type": "stream",
     "text": [
      "Feature map shape before flattening: torch.Size([1, 80, 14, 14])\n",
      "Feature map shape before flattening: torch.Size([1, 80, 14, 14])\n",
      "Feature map shape before flattening: torch.Size([1, 80, 14, 14])\n",
      "Feature map shape before flattening: torch.Size([1, 80, 14, 14])\n",
      "Feature map shape before flattening: torch.Size([1, 80, 14, 14])\n",
      "Feature map shape before flattening: torch.Size([1, 80, 14, 14])\n",
      "Feature map shape before flattening: torch.Size([1, 80, 14, 14])\n",
      "Feature map shape before flattening: torch.Size([1, 80, 14, 14])\n"
     ]
    },
    {
     "name": "stderr",
     "output_type": "stream",
     "text": [
      "Evaluating:  22%|██████████████▉                                                     | 216/984 [00:06<00:21, 35.72it/s]"
     ]
    },
    {
     "name": "stdout",
     "output_type": "stream",
     "text": [
      "Feature map shape before flattening: torch.Size([1, 80, 14, 14])\n",
      "Feature map shape before flattening: torch.Size([1, 80, 14, 14])\n",
      "Feature map shape before flattening: torch.Size([1, 80, 14, 14])\n",
      "Feature map shape before flattening: torch.Size([1, 80, 14, 14])\n",
      "Feature map shape before flattening: torch.Size([1, 80, 14, 14])\n",
      "Feature map shape before flattening: torch.Size([1, 80, 14, 14])\n",
      "Feature map shape before flattening: torch.Size([1, 80, 14, 14])\n"
     ]
    },
    {
     "name": "stderr",
     "output_type": "stream",
     "text": [
      "Evaluating:  23%|███████████████▍                                                    | 224/984 [00:06<00:20, 36.23it/s]"
     ]
    },
    {
     "name": "stdout",
     "output_type": "stream",
     "text": [
      "Feature map shape before flattening: torch.Size([1, 80, 14, 14])\n",
      "Feature map shape before flattening: torch.Size([1, 80, 14, 14])\n",
      "Feature map shape before flattening: torch.Size([1, 80, 14, 14])\n",
      "Feature map shape before flattening: torch.Size([1, 80, 14, 14])\n",
      "Feature map shape before flattening: torch.Size([1, 80, 14, 14])\n",
      "Feature map shape before flattening: torch.Size([1, 80, 14, 14])\n",
      "Feature map shape before flattening: torch.Size([1, 80, 14, 14])\n",
      "Feature map shape before flattening: torch.Size([1, 80, 14, 14])\n"
     ]
    },
    {
     "name": "stderr",
     "output_type": "stream",
     "text": [
      "Evaluating:  24%|████████████████                                                    | 232/984 [00:06<00:20, 36.23it/s]"
     ]
    },
    {
     "name": "stdout",
     "output_type": "stream",
     "text": [
      "Feature map shape before flattening: torch.Size([1, 80, 14, 14])\n",
      "Feature map shape before flattening: torch.Size([1, 80, 14, 14])\n",
      "Feature map shape before flattening: torch.Size([1, 80, 14, 14])\n",
      "Feature map shape before flattening: torch.Size([1, 80, 14, 14])\n",
      "Feature map shape before flattening: torch.Size([1, 80, 14, 14])\n",
      "Feature map shape before flattening: torch.Size([1, 80, 14, 14])\n",
      "Feature map shape before flattening: torch.Size([1, 80, 14, 14])\n",
      "Feature map shape before flattening: torch.Size([1, 80, 14, 14])\n"
     ]
    },
    {
     "name": "stderr",
     "output_type": "stream",
     "text": [
      "Evaluating:  24%|████████████████▌                                                   | 240/984 [00:06<00:20, 36.50it/s]"
     ]
    },
    {
     "name": "stdout",
     "output_type": "stream",
     "text": [
      "Feature map shape before flattening: torch.Size([1, 80, 14, 14])\n",
      "Feature map shape before flattening: torch.Size([1, 80, 14, 14])\n",
      "Feature map shape before flattening: torch.Size([1, 80, 14, 14])\n",
      "Feature map shape before flattening: torch.Size([1, 80, 14, 14])\n",
      "Feature map shape before flattening: torch.Size([1, 80, 14, 14])\n",
      "Feature map shape before flattening: torch.Size([1, 80, 14, 14])\n",
      "Feature map shape before flattening: torch.Size([1, 80, 14, 14])\n",
      "Feature map shape before flattening: torch.Size([1, 80, 14, 14])\n"
     ]
    },
    {
     "name": "stderr",
     "output_type": "stream",
     "text": [
      "Evaluating:  25%|█████████████████▏                                                  | 248/984 [00:06<00:19, 37.05it/s]"
     ]
    },
    {
     "name": "stdout",
     "output_type": "stream",
     "text": [
      "Feature map shape before flattening: torch.Size([1, 80, 14, 14])\n",
      "Feature map shape before flattening: torch.Size([1, 80, 14, 14])\n",
      "Feature map shape before flattening: torch.Size([1, 80, 14, 14])\n",
      "Feature map shape before flattening: torch.Size([1, 80, 14, 14])\n",
      "Feature map shape before flattening: torch.Size([1, 80, 14, 14])\n",
      "Feature map shape before flattening: torch.Size([1, 80, 14, 14])\n",
      "Feature map shape before flattening: torch.Size([1, 80, 14, 14])\n",
      "Feature map shape before flattening: torch.Size([1, 80, 14, 14])\n"
     ]
    },
    {
     "name": "stderr",
     "output_type": "stream",
     "text": [
      "Evaluating:  26%|█████████████████▋                                                  | 256/984 [00:07<00:20, 35.84it/s]"
     ]
    },
    {
     "name": "stdout",
     "output_type": "stream",
     "text": [
      "Feature map shape before flattening: torch.Size([1, 80, 14, 14])\n",
      "Feature map shape before flattening: torch.Size([1, 80, 14, 14])\n",
      "Feature map shape before flattening: torch.Size([1, 80, 14, 14])\n",
      "Feature map shape before flattening: torch.Size([1, 80, 14, 14])\n",
      "Feature map shape before flattening: torch.Size([1, 80, 14, 14])\n",
      "Feature map shape before flattening: torch.Size([1, 80, 14, 14])\n",
      "Feature map shape before flattening: torch.Size([1, 80, 14, 14])\n",
      "Feature map shape before flattening: torch.Size([1, 80, 14, 14])\n"
     ]
    },
    {
     "name": "stderr",
     "output_type": "stream",
     "text": [
      "Evaluating:  27%|██████████████████▏                                                 | 264/984 [00:07<00:20, 35.75it/s]"
     ]
    },
    {
     "name": "stdout",
     "output_type": "stream",
     "text": [
      "Feature map shape before flattening: torch.Size([1, 80, 14, 14])\n",
      "Feature map shape before flattening: torch.Size([1, 80, 14, 14])\n",
      "Feature map shape before flattening: torch.Size([1, 80, 14, 14])\n",
      "Feature map shape before flattening: torch.Size([1, 80, 14, 14])\n",
      "Feature map shape before flattening: torch.Size([1, 80, 14, 14])\n",
      "Feature map shape before flattening: torch.Size([1, 80, 14, 14])\n",
      "Feature map shape before flattening: torch.Size([1, 80, 14, 14])\n",
      "Feature map shape before flattening: torch.Size([1, 80, 14, 14])\n"
     ]
    },
    {
     "name": "stderr",
     "output_type": "stream",
     "text": [
      "Evaluating:  28%|██████████████████▊                                                 | 272/984 [00:07<00:20, 35.35it/s]"
     ]
    },
    {
     "name": "stdout",
     "output_type": "stream",
     "text": [
      "Feature map shape before flattening: torch.Size([1, 80, 14, 14])\n",
      "Feature map shape before flattening: torch.Size([1, 80, 14, 14])\n",
      "Feature map shape before flattening: torch.Size([1, 80, 14, 14])\n",
      "Feature map shape before flattening: torch.Size([1, 80, 14, 14])\n",
      "Feature map shape before flattening: torch.Size([1, 80, 14, 14])\n",
      "Feature map shape before flattening: torch.Size([1, 80, 14, 14])\n",
      "Feature map shape before flattening: torch.Size([1, 80, 14, 14])\n",
      "Feature map shape before flattening: torch.Size([1, 80, 14, 14])\n"
     ]
    },
    {
     "name": "stderr",
     "output_type": "stream",
     "text": [
      "Evaluating:  28%|███████████████████▎                                                | 280/984 [00:07<00:19, 35.81it/s]"
     ]
    },
    {
     "name": "stdout",
     "output_type": "stream",
     "text": [
      "Feature map shape before flattening: torch.Size([1, 80, 14, 14])\n",
      "Feature map shape before flattening: torch.Size([1, 80, 14, 14])\n",
      "Feature map shape before flattening: torch.Size([1, 80, 14, 14])\n",
      "Feature map shape before flattening: torch.Size([1, 80, 14, 14])\n",
      "Feature map shape before flattening: torch.Size([1, 80, 14, 14])\n",
      "Feature map shape before flattening: torch.Size([1, 80, 14, 14])\n",
      "Feature map shape before flattening: torch.Size([1, 80, 14, 14])\n"
     ]
    },
    {
     "name": "stderr",
     "output_type": "stream",
     "text": [
      "Evaluating:  29%|███████████████████▋                                                | 284/984 [00:07<00:19, 35.85it/s]"
     ]
    },
    {
     "name": "stdout",
     "output_type": "stream",
     "text": [
      "Feature map shape before flattening: torch.Size([1, 80, 14, 14])\n",
      "Feature map shape before flattening: torch.Size([1, 80, 14, 14])\n",
      "Feature map shape before flattening: torch.Size([1, 80, 14, 14])\n",
      "Feature map shape before flattening: torch.Size([1, 80, 14, 14])\n",
      "Feature map shape before flattening: torch.Size([1, 80, 14, 14])\n",
      "Feature map shape before flattening: torch.Size([1, 80, 14, 14])\n",
      "Feature map shape before flattening: torch.Size([1, 80, 14, 14])\n"
     ]
    },
    {
     "name": "stderr",
     "output_type": "stream",
     "text": [
      "Evaluating:  30%|████████████████████▏                                               | 292/984 [00:08<00:18, 36.65it/s]"
     ]
    },
    {
     "name": "stdout",
     "output_type": "stream",
     "text": [
      "Feature map shape before flattening: torch.Size([1, 80, 14, 14])\n",
      "Feature map shape before flattening: torch.Size([1, 80, 14, 14])\n",
      "Feature map shape before flattening: torch.Size([1, 80, 14, 14])\n",
      "Feature map shape before flattening: torch.Size([1, 80, 14, 14])\n",
      "Feature map shape before flattening: torch.Size([1, 80, 14, 14])\n",
      "Feature map shape before flattening: torch.Size([1, 80, 14, 14])\n",
      "Feature map shape before flattening: torch.Size([1, 80, 14, 14])\n",
      "Feature map shape before flattening: torch.Size([1, 80, 14, 14])\n"
     ]
    },
    {
     "name": "stderr",
     "output_type": "stream",
     "text": [
      "Evaluating:  30%|████████████████████▋                                               | 300/984 [00:08<00:18, 36.01it/s]"
     ]
    },
    {
     "name": "stdout",
     "output_type": "stream",
     "text": [
      "Feature map shape before flattening: torch.Size([1, 80, 14, 14])\n",
      "Feature map shape before flattening: torch.Size([1, 80, 14, 14])\n",
      "Feature map shape before flattening: torch.Size([1, 80, 14, 14])\n",
      "Feature map shape before flattening: torch.Size([1, 80, 14, 14])\n",
      "Feature map shape before flattening: torch.Size([1, 80, 14, 14])\n",
      "Feature map shape before flattening: torch.Size([1, 80, 14, 14])\n",
      "Feature map shape before flattening: torch.Size([1, 80, 14, 14])\n",
      "Feature map shape before flattening: torch.Size([1, 80, 14, 14])\n"
     ]
    },
    {
     "name": "stderr",
     "output_type": "stream",
     "text": [
      "Evaluating:  31%|█████████████████████▎                                              | 308/984 [00:08<00:18, 35.94it/s]"
     ]
    },
    {
     "name": "stdout",
     "output_type": "stream",
     "text": [
      "Feature map shape before flattening: torch.Size([1, 80, 14, 14])\n",
      "Feature map shape before flattening: torch.Size([1, 80, 14, 14])\n",
      "Feature map shape before flattening: torch.Size([1, 80, 14, 14])\n",
      "Feature map shape before flattening: torch.Size([1, 80, 14, 14])\n",
      "Feature map shape before flattening: torch.Size([1, 80, 14, 14])\n",
      "Feature map shape before flattening: torch.Size([1, 80, 14, 14])\n",
      "Feature map shape before flattening: torch.Size([1, 80, 14, 14])\n",
      "Feature map shape before flattening: torch.Size([1, 80, 14, 14])\n"
     ]
    },
    {
     "name": "stderr",
     "output_type": "stream",
     "text": [
      "Evaluating:  32%|█████████████████████▊                                              | 316/984 [00:08<00:18, 36.86it/s]"
     ]
    },
    {
     "name": "stdout",
     "output_type": "stream",
     "text": [
      "Feature map shape before flattening: torch.Size([1, 80, 14, 14])\n",
      "Feature map shape before flattening: torch.Size([1, 80, 14, 14])\n",
      "Feature map shape before flattening: torch.Size([1, 80, 14, 14])\n",
      "Feature map shape before flattening: torch.Size([1, 80, 14, 14])\n",
      "Feature map shape before flattening: torch.Size([1, 80, 14, 14])\n",
      "Feature map shape before flattening: torch.Size([1, 80, 14, 14])\n",
      "Feature map shape before flattening: torch.Size([1, 80, 14, 14])\n",
      "Feature map shape before flattening: torch.Size([1, 80, 14, 14])\n"
     ]
    },
    {
     "name": "stderr",
     "output_type": "stream",
     "text": [
      "Evaluating:  33%|██████████████████████▍                                             | 324/984 [00:09<00:18, 36.34it/s]"
     ]
    },
    {
     "name": "stdout",
     "output_type": "stream",
     "text": [
      "Feature map shape before flattening: torch.Size([1, 80, 14, 14])\n",
      "Feature map shape before flattening: torch.Size([1, 80, 14, 14])\n",
      "Feature map shape before flattening: torch.Size([1, 80, 14, 14])\n",
      "Feature map shape before flattening: torch.Size([1, 80, 14, 14])\n",
      "Feature map shape before flattening: torch.Size([1, 80, 14, 14])\n",
      "Feature map shape before flattening: torch.Size([1, 80, 14, 14])\n",
      "Feature map shape before flattening: torch.Size([1, 80, 14, 14])\n",
      "Feature map shape before flattening: torch.Size([1, 80, 14, 14])\n"
     ]
    },
    {
     "name": "stderr",
     "output_type": "stream",
     "text": [
      "Evaluating:  34%|██████████████████████▉                                             | 332/984 [00:09<00:17, 36.62it/s]"
     ]
    },
    {
     "name": "stdout",
     "output_type": "stream",
     "text": [
      "Feature map shape before flattening: torch.Size([1, 80, 14, 14])\n",
      "Feature map shape before flattening: torch.Size([1, 80, 14, 14])\n",
      "Feature map shape before flattening: torch.Size([1, 80, 14, 14])\n",
      "Feature map shape before flattening: torch.Size([1, 80, 14, 14])\n",
      "Feature map shape before flattening: torch.Size([1, 80, 14, 14])\n",
      "Feature map shape before flattening: torch.Size([1, 80, 14, 14])\n",
      "Feature map shape before flattening: torch.Size([1, 80, 14, 14])\n",
      "Feature map shape before flattening: torch.Size([1, 80, 14, 14])\n"
     ]
    },
    {
     "name": "stderr",
     "output_type": "stream",
     "text": [
      "Evaluating:  35%|███████████████████████▍                                            | 340/984 [00:09<00:17, 36.90it/s]"
     ]
    },
    {
     "name": "stdout",
     "output_type": "stream",
     "text": [
      "Feature map shape before flattening: torch.Size([1, 80, 14, 14])\n",
      "Feature map shape before flattening: torch.Size([1, 80, 14, 14])\n",
      "Feature map shape before flattening: torch.Size([1, 80, 14, 14])\n",
      "Feature map shape before flattening: torch.Size([1, 80, 14, 14])\n",
      "Feature map shape before flattening: torch.Size([1, 80, 14, 14])\n",
      "Feature map shape before flattening: torch.Size([1, 80, 14, 14])\n",
      "Feature map shape before flattening: torch.Size([1, 80, 14, 14])\n",
      "Feature map shape before flattening: torch.Size([1, 80, 14, 14])\n"
     ]
    },
    {
     "name": "stderr",
     "output_type": "stream",
     "text": [
      "Evaluating:  35%|████████████████████████                                            | 348/984 [00:09<00:17, 36.12it/s]"
     ]
    },
    {
     "name": "stdout",
     "output_type": "stream",
     "text": [
      "Feature map shape before flattening: torch.Size([1, 80, 14, 14])\n",
      "Feature map shape before flattening: torch.Size([1, 80, 14, 14])\n",
      "Feature map shape before flattening: torch.Size([1, 80, 14, 14])\n",
      "Feature map shape before flattening: torch.Size([1, 80, 14, 14])\n",
      "Feature map shape before flattening: torch.Size([1, 80, 14, 14])\n",
      "Feature map shape before flattening: torch.Size([1, 80, 14, 14])\n",
      "Feature map shape before flattening: torch.Size([1, 80, 14, 14])\n",
      "Feature map shape before flattening: torch.Size([1, 80, 14, 14])\n"
     ]
    },
    {
     "name": "stderr",
     "output_type": "stream",
     "text": [
      "Evaluating:  36%|████████████████████████▌                                           | 356/984 [00:09<00:17, 36.35it/s]"
     ]
    },
    {
     "name": "stdout",
     "output_type": "stream",
     "text": [
      "Feature map shape before flattening: torch.Size([1, 80, 14, 14])\n",
      "Feature map shape before flattening: torch.Size([1, 80, 14, 14])\n",
      "Feature map shape before flattening: torch.Size([1, 80, 14, 14])\n",
      "Feature map shape before flattening: torch.Size([1, 80, 14, 14])\n",
      "Feature map shape before flattening: torch.Size([1, 80, 14, 14])\n",
      "Feature map shape before flattening: torch.Size([1, 80, 14, 14])\n",
      "Feature map shape before flattening: torch.Size([1, 80, 14, 14])\n",
      "Feature map shape before flattening: torch.Size([1, 80, 14, 14])\n"
     ]
    },
    {
     "name": "stderr",
     "output_type": "stream",
     "text": [
      "Evaluating:  37%|█████████████████████████▏                                          | 364/984 [00:10<00:17, 36.08it/s]"
     ]
    },
    {
     "name": "stdout",
     "output_type": "stream",
     "text": [
      "Feature map shape before flattening: torch.Size([1, 80, 14, 14])\n",
      "Feature map shape before flattening: torch.Size([1, 80, 14, 14])\n",
      "Feature map shape before flattening: torch.Size([1, 80, 14, 14])\n",
      "Feature map shape before flattening: torch.Size([1, 80, 14, 14])\n",
      "Feature map shape before flattening: torch.Size([1, 80, 14, 14])\n",
      "Feature map shape before flattening: torch.Size([1, 80, 14, 14])\n",
      "Feature map shape before flattening: torch.Size([1, 80, 14, 14])\n",
      "Feature map shape before flattening: torch.Size([1, 80, 14, 14])\n"
     ]
    },
    {
     "name": "stderr",
     "output_type": "stream",
     "text": [
      "Evaluating:  38%|█████████████████████████▋                                          | 372/984 [00:10<00:16, 36.06it/s]"
     ]
    },
    {
     "name": "stdout",
     "output_type": "stream",
     "text": [
      "Feature map shape before flattening: torch.Size([1, 80, 14, 14])\n",
      "Feature map shape before flattening: torch.Size([1, 80, 14, 14])\n",
      "Feature map shape before flattening: torch.Size([1, 80, 14, 14])\n",
      "Feature map shape before flattening: torch.Size([1, 80, 14, 14])\n",
      "Feature map shape before flattening: torch.Size([1, 80, 14, 14])\n",
      "Feature map shape before flattening: torch.Size([1, 80, 14, 14])\n",
      "Feature map shape before flattening: torch.Size([1, 80, 14, 14])\n"
     ]
    },
    {
     "name": "stderr",
     "output_type": "stream",
     "text": [
      "Evaluating:  39%|██████████████████████████▎                                         | 380/984 [00:10<00:16, 35.61it/s]"
     ]
    },
    {
     "name": "stdout",
     "output_type": "stream",
     "text": [
      "Feature map shape before flattening: torch.Size([1, 80, 14, 14])\n",
      "Feature map shape before flattening: torch.Size([1, 80, 14, 14])\n",
      "Feature map shape before flattening: torch.Size([1, 80, 14, 14])\n",
      "Feature map shape before flattening: torch.Size([1, 80, 14, 14])\n",
      "Feature map shape before flattening: torch.Size([1, 80, 14, 14])\n",
      "Feature map shape before flattening: torch.Size([1, 80, 14, 14])\n",
      "Feature map shape before flattening: torch.Size([1, 80, 14, 14])\n",
      "Feature map shape before flattening: torch.Size([1, 80, 14, 14])\n"
     ]
    },
    {
     "name": "stderr",
     "output_type": "stream",
     "text": [
      "Evaluating:  39%|██████████████████████████▊                                         | 388/984 [00:10<00:16, 35.62it/s]"
     ]
    },
    {
     "name": "stdout",
     "output_type": "stream",
     "text": [
      "Feature map shape before flattening: torch.Size([1, 80, 14, 14])\n",
      "Feature map shape before flattening: torch.Size([1, 80, 14, 14])\n",
      "Feature map shape before flattening: torch.Size([1, 80, 14, 14])\n",
      "Feature map shape before flattening: torch.Size([1, 80, 14, 14])\n",
      "Feature map shape before flattening: torch.Size([1, 80, 14, 14])\n",
      "Feature map shape before flattening: torch.Size([1, 80, 14, 14])\n",
      "Feature map shape before flattening: torch.Size([1, 80, 14, 14])\n",
      "Feature map shape before flattening: torch.Size([1, 80, 14, 14])\n"
     ]
    },
    {
     "name": "stderr",
     "output_type": "stream",
     "text": [
      "Evaluating:  40%|███████████████████████████▎                                        | 396/984 [00:11<00:16, 35.43it/s]"
     ]
    },
    {
     "name": "stdout",
     "output_type": "stream",
     "text": [
      "Feature map shape before flattening: torch.Size([1, 80, 14, 14])\n",
      "Feature map shape before flattening: torch.Size([1, 80, 14, 14])\n",
      "Feature map shape before flattening: torch.Size([1, 80, 14, 14])\n",
      "Feature map shape before flattening: torch.Size([1, 80, 14, 14])\n",
      "Feature map shape before flattening: torch.Size([1, 80, 14, 14])\n",
      "Feature map shape before flattening: torch.Size([1, 80, 14, 14])\n",
      "Feature map shape before flattening: torch.Size([1, 80, 14, 14])\n",
      "Feature map shape before flattening: torch.Size([1, 80, 14, 14])\n"
     ]
    },
    {
     "name": "stderr",
     "output_type": "stream",
     "text": [
      "Evaluating:  41%|███████████████████████████▉                                        | 404/984 [00:11<00:16, 35.12it/s]"
     ]
    },
    {
     "name": "stdout",
     "output_type": "stream",
     "text": [
      "Feature map shape before flattening: torch.Size([1, 80, 14, 14])\n",
      "Feature map shape before flattening: torch.Size([1, 80, 14, 14])\n",
      "Feature map shape before flattening: torch.Size([1, 80, 14, 14])\n",
      "Feature map shape before flattening: torch.Size([1, 80, 14, 14])\n",
      "Feature map shape before flattening: torch.Size([1, 80, 14, 14])\n",
      "Feature map shape before flattening: torch.Size([1, 80, 14, 14])\n",
      "Feature map shape before flattening: torch.Size([1, 80, 14, 14])\n",
      "Feature map shape before flattening: torch.Size([1, 80, 14, 14])\n"
     ]
    },
    {
     "name": "stderr",
     "output_type": "stream",
     "text": [
      "Evaluating:  42%|████████████████████████████▍                                       | 412/984 [00:11<00:16, 35.12it/s]"
     ]
    },
    {
     "name": "stdout",
     "output_type": "stream",
     "text": [
      "Feature map shape before flattening: torch.Size([1, 80, 14, 14])\n",
      "Feature map shape before flattening: torch.Size([1, 80, 14, 14])\n",
      "Feature map shape before flattening: torch.Size([1, 80, 14, 14])\n",
      "Feature map shape before flattening: torch.Size([1, 80, 14, 14])\n",
      "Feature map shape before flattening: torch.Size([1, 80, 14, 14])\n",
      "Feature map shape before flattening: torch.Size([1, 80, 14, 14])\n",
      "Feature map shape before flattening: torch.Size([1, 80, 14, 14])\n",
      "Feature map shape before flattening: torch.Size([1, 80, 14, 14])\n"
     ]
    },
    {
     "name": "stderr",
     "output_type": "stream",
     "text": [
      "Evaluating:  43%|█████████████████████████████                                       | 420/984 [00:11<00:16, 34.62it/s]"
     ]
    },
    {
     "name": "stdout",
     "output_type": "stream",
     "text": [
      "Feature map shape before flattening: torch.Size([1, 80, 14, 14])\n",
      "Feature map shape before flattening: torch.Size([1, 80, 14, 14])\n",
      "Feature map shape before flattening: torch.Size([1, 80, 14, 14])\n",
      "Feature map shape before flattening: torch.Size([1, 80, 14, 14])\n",
      "Feature map shape before flattening: torch.Size([1, 80, 14, 14])\n",
      "Feature map shape before flattening: torch.Size([1, 80, 14, 14])\n",
      "Feature map shape before flattening: torch.Size([1, 80, 14, 14])\n",
      "Feature map shape before flattening: torch.Size([1, 80, 14, 14])\n"
     ]
    },
    {
     "name": "stderr",
     "output_type": "stream",
     "text": [
      "Evaluating:  43%|█████████████████████████████▌                                      | 428/984 [00:11<00:16, 34.72it/s]"
     ]
    },
    {
     "name": "stdout",
     "output_type": "stream",
     "text": [
      "Feature map shape before flattening: torch.Size([1, 80, 14, 14])\n",
      "Feature map shape before flattening: torch.Size([1, 80, 14, 14])\n",
      "Feature map shape before flattening: torch.Size([1, 80, 14, 14])\n",
      "Feature map shape before flattening: torch.Size([1, 80, 14, 14])\n",
      "Feature map shape before flattening: torch.Size([1, 80, 14, 14])\n",
      "Feature map shape before flattening: torch.Size([1, 80, 14, 14])\n",
      "Feature map shape before flattening: torch.Size([1, 80, 14, 14])\n",
      "Feature map shape before flattening: torch.Size([1, 80, 14, 14])\n"
     ]
    },
    {
     "name": "stderr",
     "output_type": "stream",
     "text": [
      "Evaluating:  44%|██████████████████████████████▏                                     | 436/984 [00:12<00:15, 35.57it/s]"
     ]
    },
    {
     "name": "stdout",
     "output_type": "stream",
     "text": [
      "Feature map shape before flattening: torch.Size([1, 80, 14, 14])\n",
      "Feature map shape before flattening: torch.Size([1, 80, 14, 14])\n",
      "Feature map shape before flattening: torch.Size([1, 80, 14, 14])\n",
      "Feature map shape before flattening: torch.Size([1, 80, 14, 14])\n",
      "Feature map shape before flattening: torch.Size([1, 80, 14, 14])\n",
      "Feature map shape before flattening: torch.Size([1, 80, 14, 14])\n",
      "Feature map shape before flattening: torch.Size([1, 80, 14, 14])\n",
      "Feature map shape before flattening: torch.Size([1, 80, 14, 14])\n"
     ]
    },
    {
     "name": "stderr",
     "output_type": "stream",
     "text": [
      "Evaluating:  45%|██████████████████████████████▋                                     | 444/984 [00:12<00:14, 36.44it/s]"
     ]
    },
    {
     "name": "stdout",
     "output_type": "stream",
     "text": [
      "Feature map shape before flattening: torch.Size([1, 80, 14, 14])\n",
      "Feature map shape before flattening: torch.Size([1, 80, 14, 14])\n",
      "Feature map shape before flattening: torch.Size([1, 80, 14, 14])\n",
      "Feature map shape before flattening: torch.Size([1, 80, 14, 14])\n",
      "Feature map shape before flattening: torch.Size([1, 80, 14, 14])\n",
      "Feature map shape before flattening: torch.Size([1, 80, 14, 14])\n",
      "Feature map shape before flattening: torch.Size([1, 80, 14, 14])\n",
      "Feature map shape before flattening: torch.Size([1, 80, 14, 14])\n"
     ]
    },
    {
     "name": "stderr",
     "output_type": "stream",
     "text": [
      "Evaluating:  46%|███████████████████████████████▏                                    | 452/984 [00:12<00:15, 35.23it/s]"
     ]
    },
    {
     "name": "stdout",
     "output_type": "stream",
     "text": [
      "Feature map shape before flattening: torch.Size([1, 80, 14, 14])\n",
      "Feature map shape before flattening: torch.Size([1, 80, 14, 14])\n",
      "Feature map shape before flattening: torch.Size([1, 80, 14, 14])\n",
      "Feature map shape before flattening: torch.Size([1, 80, 14, 14])\n",
      "Feature map shape before flattening: torch.Size([1, 80, 14, 14])\n",
      "Feature map shape before flattening: torch.Size([1, 80, 14, 14])\n",
      "Feature map shape before flattening: torch.Size([1, 80, 14, 14])\n"
     ]
    },
    {
     "name": "stderr",
     "output_type": "stream",
     "text": [
      "Evaluating:  46%|███████████████████████████████▌                                    | 456/984 [00:12<00:15, 34.74it/s]"
     ]
    },
    {
     "name": "stdout",
     "output_type": "stream",
     "text": [
      "Feature map shape before flattening: torch.Size([1, 80, 14, 14])\n",
      "Feature map shape before flattening: torch.Size([1, 80, 14, 14])\n",
      "Feature map shape before flattening: torch.Size([1, 80, 14, 14])\n",
      "Feature map shape before flattening: torch.Size([1, 80, 14, 14])\n",
      "Feature map shape before flattening: torch.Size([1, 80, 14, 14])\n",
      "Feature map shape before flattening: torch.Size([1, 80, 14, 14])\n",
      "Feature map shape before flattening: torch.Size([1, 80, 14, 14])\n"
     ]
    },
    {
     "name": "stderr",
     "output_type": "stream",
     "text": [
      "Evaluating:  47%|████████████████████████████████                                    | 464/984 [00:12<00:14, 34.97it/s]"
     ]
    },
    {
     "name": "stdout",
     "output_type": "stream",
     "text": [
      "Feature map shape before flattening: torch.Size([1, 80, 14, 14])\n",
      "Feature map shape before flattening: torch.Size([1, 80, 14, 14])\n",
      "Feature map shape before flattening: torch.Size([1, 80, 14, 14])\n",
      "Feature map shape before flattening: torch.Size([1, 80, 14, 14])\n",
      "Feature map shape before flattening: torch.Size([1, 80, 14, 14])\n",
      "Feature map shape before flattening: torch.Size([1, 80, 14, 14])\n",
      "Feature map shape before flattening: torch.Size([1, 80, 14, 14])\n"
     ]
    },
    {
     "name": "stderr",
     "output_type": "stream",
     "text": [
      "Evaluating:  48%|████████████████████████████████▌                                   | 472/984 [00:13<00:14, 35.02it/s]"
     ]
    },
    {
     "name": "stdout",
     "output_type": "stream",
     "text": [
      "Feature map shape before flattening: torch.Size([1, 80, 14, 14])\n",
      "Feature map shape before flattening: torch.Size([1, 80, 14, 14])\n",
      "Feature map shape before flattening: torch.Size([1, 80, 14, 14])\n",
      "Feature map shape before flattening: torch.Size([1, 80, 14, 14])\n",
      "Feature map shape before flattening: torch.Size([1, 80, 14, 14])\n",
      "Feature map shape before flattening: torch.Size([1, 80, 14, 14])\n",
      "Feature map shape before flattening: torch.Size([1, 80, 14, 14])\n",
      "Feature map shape before flattening: torch.Size([1, 80, 14, 14])\n"
     ]
    },
    {
     "name": "stderr",
     "output_type": "stream",
     "text": [
      "Evaluating:  49%|█████████████████████████████████▏                                  | 480/984 [00:13<00:14, 35.58it/s]"
     ]
    },
    {
     "name": "stdout",
     "output_type": "stream",
     "text": [
      "Feature map shape before flattening: torch.Size([1, 80, 14, 14])\n",
      "Feature map shape before flattening: torch.Size([1, 80, 14, 14])\n",
      "Feature map shape before flattening: torch.Size([1, 80, 14, 14])\n",
      "Feature map shape before flattening: torch.Size([1, 80, 14, 14])\n",
      "Feature map shape before flattening: torch.Size([1, 80, 14, 14])\n",
      "Feature map shape before flattening: torch.Size([1, 80, 14, 14])\n",
      "Feature map shape before flattening: torch.Size([1, 80, 14, 14])\n",
      "Feature map shape before flattening: torch.Size([1, 80, 14, 14])\n"
     ]
    },
    {
     "name": "stderr",
     "output_type": "stream",
     "text": [
      "Evaluating:  50%|█████████████████████████████████▋                                  | 488/984 [00:13<00:13, 35.46it/s]"
     ]
    },
    {
     "name": "stdout",
     "output_type": "stream",
     "text": [
      "Feature map shape before flattening: torch.Size([1, 80, 14, 14])\n",
      "Feature map shape before flattening: torch.Size([1, 80, 14, 14])\n",
      "Feature map shape before flattening: torch.Size([1, 80, 14, 14])\n",
      "Feature map shape before flattening: torch.Size([1, 80, 14, 14])\n",
      "Feature map shape before flattening: torch.Size([1, 80, 14, 14])\n",
      "Feature map shape before flattening: torch.Size([1, 80, 14, 14])\n",
      "Feature map shape before flattening: torch.Size([1, 80, 14, 14])\n",
      "Feature map shape before flattening: torch.Size([1, 80, 14, 14])\n"
     ]
    },
    {
     "name": "stderr",
     "output_type": "stream",
     "text": [
      "Evaluating:  50%|██████████████████████████████████▎                                 | 496/984 [00:13<00:13, 36.52it/s]"
     ]
    },
    {
     "name": "stdout",
     "output_type": "stream",
     "text": [
      "Feature map shape before flattening: torch.Size([1, 80, 14, 14])\n",
      "Feature map shape before flattening: torch.Size([1, 80, 14, 14])\n",
      "Feature map shape before flattening: torch.Size([1, 80, 14, 14])\n",
      "Feature map shape before flattening: torch.Size([1, 80, 14, 14])\n",
      "Feature map shape before flattening: torch.Size([1, 80, 14, 14])\n",
      "Feature map shape before flattening: torch.Size([1, 80, 14, 14])\n"
     ]
    },
    {
     "name": "stderr",
     "output_type": "stream",
     "text": [
      "Evaluating:  51%|██████████████████████████████████▌                                 | 500/984 [00:14<00:15, 30.48it/s]"
     ]
    },
    {
     "name": "stdout",
     "output_type": "stream",
     "text": [
      "Feature map shape before flattening: torch.Size([1, 80, 14, 14])\n",
      "Feature map shape before flattening: torch.Size([1, 80, 14, 14])\n",
      "Feature map shape before flattening: torch.Size([1, 80, 14, 14])\n",
      "Feature map shape before flattening: torch.Size([1, 80, 14, 14])\n",
      "Feature map shape before flattening: torch.Size([1, 80, 14, 14])\n",
      "Feature map shape before flattening: torch.Size([1, 80, 14, 14])\n",
      "Feature map shape before flattening: torch.Size([1, 80, 14, 14])\n"
     ]
    },
    {
     "name": "stderr",
     "output_type": "stream",
     "text": [
      "Evaluating:  52%|███████████████████████████████████                                 | 508/984 [00:14<00:15, 31.71it/s]"
     ]
    },
    {
     "name": "stdout",
     "output_type": "stream",
     "text": [
      "Feature map shape before flattening: torch.Size([1, 80, 14, 14])\n",
      "Feature map shape before flattening: torch.Size([1, 80, 14, 14])\n",
      "Feature map shape before flattening: torch.Size([1, 80, 14, 14])\n",
      "Feature map shape before flattening: torch.Size([1, 80, 14, 14])\n",
      "Feature map shape before flattening: torch.Size([1, 80, 14, 14])\n",
      "Feature map shape before flattening: torch.Size([1, 80, 14, 14])\n",
      "Feature map shape before flattening: torch.Size([1, 80, 14, 14])\n",
      "Feature map shape before flattening: torch.Size([1, 80, 14, 14])\n"
     ]
    },
    {
     "name": "stderr",
     "output_type": "stream",
     "text": [
      "Evaluating:  52%|███████████████████████████████████▋                                | 516/984 [00:14<00:13, 33.85it/s]"
     ]
    },
    {
     "name": "stdout",
     "output_type": "stream",
     "text": [
      "Feature map shape before flattening: torch.Size([1, 80, 14, 14])\n",
      "Feature map shape before flattening: torch.Size([1, 80, 14, 14])\n",
      "Feature map shape before flattening: torch.Size([1, 80, 14, 14])\n",
      "Feature map shape before flattening: torch.Size([1, 80, 14, 14])\n",
      "Feature map shape before flattening: torch.Size([1, 80, 14, 14])\n",
      "Feature map shape before flattening: torch.Size([1, 80, 14, 14])\n",
      "Feature map shape before flattening: torch.Size([1, 80, 14, 14])\n",
      "Feature map shape before flattening: torch.Size([1, 80, 14, 14])\n"
     ]
    },
    {
     "name": "stderr",
     "output_type": "stream",
     "text": [
      "Evaluating:  53%|████████████████████████████████████▏                               | 524/984 [00:14<00:13, 35.11it/s]"
     ]
    },
    {
     "name": "stdout",
     "output_type": "stream",
     "text": [
      "Feature map shape before flattening: torch.Size([1, 80, 14, 14])\n",
      "Feature map shape before flattening: torch.Size([1, 80, 14, 14])\n",
      "Feature map shape before flattening: torch.Size([1, 80, 14, 14])\n",
      "Feature map shape before flattening: torch.Size([1, 80, 14, 14])\n",
      "Feature map shape before flattening: torch.Size([1, 80, 14, 14])\n",
      "Feature map shape before flattening: torch.Size([1, 80, 14, 14])\n",
      "Feature map shape before flattening: torch.Size([1, 80, 14, 14])\n"
     ]
    },
    {
     "name": "stderr",
     "output_type": "stream",
     "text": [
      "Evaluating:  54%|████████████████████████████████████▊                               | 532/984 [00:14<00:13, 33.70it/s]"
     ]
    },
    {
     "name": "stdout",
     "output_type": "stream",
     "text": [
      "Feature map shape before flattening: torch.Size([1, 80, 14, 14])\n",
      "Feature map shape before flattening: torch.Size([1, 80, 14, 14])\n",
      "Feature map shape before flattening: torch.Size([1, 80, 14, 14])\n",
      "Feature map shape before flattening: torch.Size([1, 80, 14, 14])\n",
      "Feature map shape before flattening: torch.Size([1, 80, 14, 14])\n",
      "Feature map shape before flattening: torch.Size([1, 80, 14, 14])\n",
      "Feature map shape before flattening: torch.Size([1, 80, 14, 14])\n"
     ]
    },
    {
     "name": "stderr",
     "output_type": "stream",
     "text": [
      "Evaluating:  55%|█████████████████████████████████████▎                              | 540/984 [00:15<00:12, 34.23it/s]"
     ]
    },
    {
     "name": "stdout",
     "output_type": "stream",
     "text": [
      "Feature map shape before flattening: torch.Size([1, 80, 14, 14])\n",
      "Feature map shape before flattening: torch.Size([1, 80, 14, 14])\n",
      "Feature map shape before flattening: torch.Size([1, 80, 14, 14])\n",
      "Feature map shape before flattening: torch.Size([1, 80, 14, 14])\n",
      "Feature map shape before flattening: torch.Size([1, 80, 14, 14])\n",
      "Feature map shape before flattening: torch.Size([1, 80, 14, 14])\n",
      "Feature map shape before flattening: torch.Size([1, 80, 14, 14])\n",
      "Feature map shape before flattening: torch.Size([1, 80, 14, 14])\n"
     ]
    },
    {
     "name": "stderr",
     "output_type": "stream",
     "text": [
      "Evaluating:  56%|█████████████████████████████████████▊                              | 548/984 [00:15<00:12, 34.70it/s]"
     ]
    },
    {
     "name": "stdout",
     "output_type": "stream",
     "text": [
      "Feature map shape before flattening: torch.Size([1, 80, 14, 14])\n",
      "Feature map shape before flattening: torch.Size([1, 80, 14, 14])\n",
      "Feature map shape before flattening: torch.Size([1, 80, 14, 14])\n",
      "Feature map shape before flattening: torch.Size([1, 80, 14, 14])\n",
      "Feature map shape before flattening: torch.Size([1, 80, 14, 14])\n",
      "Feature map shape before flattening: torch.Size([1, 80, 14, 14])\n",
      "Feature map shape before flattening: torch.Size([1, 80, 14, 14])\n",
      "Feature map shape before flattening: torch.Size([1, 80, 14, 14])\n"
     ]
    },
    {
     "name": "stderr",
     "output_type": "stream",
     "text": [
      "Evaluating:  57%|██████████████████████████████████████▍                             | 556/984 [00:15<00:11, 35.92it/s]"
     ]
    },
    {
     "name": "stdout",
     "output_type": "stream",
     "text": [
      "Feature map shape before flattening: torch.Size([1, 80, 14, 14])\n",
      "Feature map shape before flattening: torch.Size([1, 80, 14, 14])\n",
      "Feature map shape before flattening: torch.Size([1, 80, 14, 14])\n",
      "Feature map shape before flattening: torch.Size([1, 80, 14, 14])\n",
      "Feature map shape before flattening: torch.Size([1, 80, 14, 14])\n",
      "Feature map shape before flattening: torch.Size([1, 80, 14, 14])\n",
      "Feature map shape before flattening: torch.Size([1, 80, 14, 14])\n",
      "Feature map shape before flattening: torch.Size([1, 80, 14, 14])\n",
      "Feature map shape before flattening: torch.Size([1, 80, 14, 14])\n"
     ]
    },
    {
     "name": "stderr",
     "output_type": "stream",
     "text": [
      "Evaluating:  57%|██████████████████████████████████████▉                             | 564/984 [00:15<00:11, 35.83it/s]"
     ]
    },
    {
     "name": "stdout",
     "output_type": "stream",
     "text": [
      "Feature map shape before flattening: torch.Size([1, 80, 14, 14])\n",
      "Feature map shape before flattening: torch.Size([1, 80, 14, 14])\n",
      "Feature map shape before flattening: torch.Size([1, 80, 14, 14])\n",
      "Feature map shape before flattening: torch.Size([1, 80, 14, 14])\n",
      "Feature map shape before flattening: torch.Size([1, 80, 14, 14])\n",
      "Feature map shape before flattening: torch.Size([1, 80, 14, 14])\n",
      "Feature map shape before flattening: torch.Size([1, 80, 14, 14])\n",
      "Feature map shape before flattening: torch.Size([1, 80, 14, 14])\n"
     ]
    },
    {
     "name": "stderr",
     "output_type": "stream",
     "text": [
      "Evaluating:  58%|███████████████████████████████████████▌                            | 572/984 [00:16<00:11, 35.72it/s]"
     ]
    },
    {
     "name": "stdout",
     "output_type": "stream",
     "text": [
      "Feature map shape before flattening: torch.Size([1, 80, 14, 14])\n",
      "Feature map shape before flattening: torch.Size([1, 80, 14, 14])\n",
      "Feature map shape before flattening: torch.Size([1, 80, 14, 14])\n",
      "Feature map shape before flattening: torch.Size([1, 80, 14, 14])\n",
      "Feature map shape before flattening: torch.Size([1, 80, 14, 14])\n",
      "Feature map shape before flattening: torch.Size([1, 80, 14, 14])\n",
      "Feature map shape before flattening: torch.Size([1, 80, 14, 14])\n",
      "Feature map shape before flattening: torch.Size([1, 80, 14, 14])\n"
     ]
    },
    {
     "name": "stderr",
     "output_type": "stream",
     "text": [
      "Evaluating:  59%|████████████████████████████████████████                            | 580/984 [00:16<00:11, 36.54it/s]"
     ]
    },
    {
     "name": "stdout",
     "output_type": "stream",
     "text": [
      "Feature map shape before flattening: torch.Size([1, 80, 14, 14])\n",
      "Feature map shape before flattening: torch.Size([1, 80, 14, 14])\n",
      "Feature map shape before flattening: torch.Size([1, 80, 14, 14])\n",
      "Feature map shape before flattening: torch.Size([1, 80, 14, 14])\n",
      "Feature map shape before flattening: torch.Size([1, 80, 14, 14])\n",
      "Feature map shape before flattening: torch.Size([1, 80, 14, 14])\n",
      "Feature map shape before flattening: torch.Size([1, 80, 14, 14])\n",
      "Feature map shape before flattening: torch.Size([1, 80, 14, 14])\n"
     ]
    },
    {
     "name": "stderr",
     "output_type": "stream",
     "text": [
      "Evaluating:  60%|████████████████████████████████████████▋                           | 588/984 [00:16<00:10, 36.20it/s]"
     ]
    },
    {
     "name": "stdout",
     "output_type": "stream",
     "text": [
      "Feature map shape before flattening: torch.Size([1, 80, 14, 14])\n",
      "Feature map shape before flattening: torch.Size([1, 80, 14, 14])\n",
      "Feature map shape before flattening: torch.Size([1, 80, 14, 14])\n",
      "Feature map shape before flattening: torch.Size([1, 80, 14, 14])\n",
      "Feature map shape before flattening: torch.Size([1, 80, 14, 14])\n",
      "Feature map shape before flattening: torch.Size([1, 80, 14, 14])\n",
      "Feature map shape before flattening: torch.Size([1, 80, 14, 14])\n",
      "Feature map shape before flattening: torch.Size([1, 80, 14, 14])\n"
     ]
    },
    {
     "name": "stderr",
     "output_type": "stream",
     "text": [
      "Evaluating:  61%|█████████████████████████████████████████▏                          | 596/984 [00:16<00:10, 36.62it/s]"
     ]
    },
    {
     "name": "stdout",
     "output_type": "stream",
     "text": [
      "Feature map shape before flattening: torch.Size([1, 80, 14, 14])\n",
      "Feature map shape before flattening: torch.Size([1, 80, 14, 14])\n",
      "Feature map shape before flattening: torch.Size([1, 80, 14, 14])\n",
      "Feature map shape before flattening: torch.Size([1, 80, 14, 14])\n",
      "Feature map shape before flattening: torch.Size([1, 80, 14, 14])\n",
      "Feature map shape before flattening: torch.Size([1, 80, 14, 14])\n",
      "Feature map shape before flattening: torch.Size([1, 80, 14, 14])\n",
      "Feature map shape before flattening: torch.Size([1, 80, 14, 14])\n"
     ]
    },
    {
     "name": "stderr",
     "output_type": "stream",
     "text": [
      "Evaluating:  61%|█████████████████████████████████████████▋                          | 604/984 [00:16<00:10, 36.96it/s]"
     ]
    },
    {
     "name": "stdout",
     "output_type": "stream",
     "text": [
      "Feature map shape before flattening: torch.Size([1, 80, 14, 14])\n",
      "Feature map shape before flattening: torch.Size([1, 80, 14, 14])\n",
      "Feature map shape before flattening: torch.Size([1, 80, 14, 14])\n",
      "Feature map shape before flattening: torch.Size([1, 80, 14, 14])\n",
      "Feature map shape before flattening: torch.Size([1, 80, 14, 14])\n",
      "Feature map shape before flattening: torch.Size([1, 80, 14, 14])\n",
      "Feature map shape before flattening: torch.Size([1, 80, 14, 14])\n",
      "Feature map shape before flattening: torch.Size([1, 80, 14, 14])\n"
     ]
    },
    {
     "name": "stderr",
     "output_type": "stream",
     "text": [
      "Evaluating:  62%|██████████████████████████████████████████▎                         | 612/984 [00:17<00:10, 35.41it/s]"
     ]
    },
    {
     "name": "stdout",
     "output_type": "stream",
     "text": [
      "Feature map shape before flattening: torch.Size([1, 80, 14, 14])\n",
      "Feature map shape before flattening: torch.Size([1, 80, 14, 14])\n",
      "Feature map shape before flattening: torch.Size([1, 80, 14, 14])\n",
      "Feature map shape before flattening: torch.Size([1, 80, 14, 14])\n",
      "Feature map shape before flattening: torch.Size([1, 80, 14, 14])\n",
      "Feature map shape before flattening: torch.Size([1, 80, 14, 14])\n",
      "Feature map shape before flattening: torch.Size([1, 80, 14, 14])\n"
     ]
    },
    {
     "name": "stderr",
     "output_type": "stream",
     "text": [
      "Evaluating:  63%|██████████████████████████████████████████▊                         | 620/984 [00:17<00:10, 35.56it/s]"
     ]
    },
    {
     "name": "stdout",
     "output_type": "stream",
     "text": [
      "Feature map shape before flattening: torch.Size([1, 80, 14, 14])\n",
      "Feature map shape before flattening: torch.Size([1, 80, 14, 14])\n",
      "Feature map shape before flattening: torch.Size([1, 80, 14, 14])\n",
      "Feature map shape before flattening: torch.Size([1, 80, 14, 14])\n",
      "Feature map shape before flattening: torch.Size([1, 80, 14, 14])\n",
      "Feature map shape before flattening: torch.Size([1, 80, 14, 14])\n",
      "Feature map shape before flattening: torch.Size([1, 80, 14, 14])\n",
      "Feature map shape before flattening: torch.Size([1, 80, 14, 14])\n"
     ]
    },
    {
     "name": "stderr",
     "output_type": "stream",
     "text": [
      "Evaluating:  64%|███████████████████████████████████████████▍                        | 628/984 [00:17<00:10, 35.27it/s]"
     ]
    },
    {
     "name": "stdout",
     "output_type": "stream",
     "text": [
      "Feature map shape before flattening: torch.Size([1, 80, 14, 14])\n",
      "Feature map shape before flattening: torch.Size([1, 80, 14, 14])\n",
      "Feature map shape before flattening: torch.Size([1, 80, 14, 14])\n",
      "Feature map shape before flattening: torch.Size([1, 80, 14, 14])\n",
      "Feature map shape before flattening: torch.Size([1, 80, 14, 14])\n",
      "Feature map shape before flattening: torch.Size([1, 80, 14, 14])\n",
      "Feature map shape before flattening: torch.Size([1, 80, 14, 14])\n",
      "Feature map shape before flattening: torch.Size([1, 80, 14, 14])\n"
     ]
    },
    {
     "name": "stderr",
     "output_type": "stream",
     "text": [
      "Evaluating:  65%|███████████████████████████████████████████▉                        | 636/984 [00:17<00:09, 35.23it/s]"
     ]
    },
    {
     "name": "stdout",
     "output_type": "stream",
     "text": [
      "Feature map shape before flattening: torch.Size([1, 80, 14, 14])\n",
      "Feature map shape before flattening: torch.Size([1, 80, 14, 14])\n",
      "Feature map shape before flattening: torch.Size([1, 80, 14, 14])\n",
      "Feature map shape before flattening: torch.Size([1, 80, 14, 14])\n",
      "Feature map shape before flattening: torch.Size([1, 80, 14, 14])\n",
      "Feature map shape before flattening: torch.Size([1, 80, 14, 14])\n",
      "Feature map shape before flattening: torch.Size([1, 80, 14, 14])\n",
      "Feature map shape before flattening: torch.Size([1, 80, 14, 14])\n"
     ]
    },
    {
     "name": "stderr",
     "output_type": "stream",
     "text": [
      "Evaluating:  65%|████████████████████████████████████████████▌                       | 644/984 [00:18<00:09, 35.37it/s]"
     ]
    },
    {
     "name": "stdout",
     "output_type": "stream",
     "text": [
      "Feature map shape before flattening: torch.Size([1, 80, 14, 14])\n",
      "Feature map shape before flattening: torch.Size([1, 80, 14, 14])\n",
      "Feature map shape before flattening: torch.Size([1, 80, 14, 14])\n",
      "Feature map shape before flattening: torch.Size([1, 80, 14, 14])\n",
      "Feature map shape before flattening: torch.Size([1, 80, 14, 14])\n",
      "Feature map shape before flattening: torch.Size([1, 80, 14, 14])\n",
      "Feature map shape before flattening: torch.Size([1, 80, 14, 14])\n",
      "Feature map shape before flattening: torch.Size([1, 80, 14, 14])\n"
     ]
    },
    {
     "name": "stderr",
     "output_type": "stream",
     "text": [
      "Evaluating:  66%|█████████████████████████████████████████████                       | 652/984 [00:18<00:09, 34.85it/s]"
     ]
    },
    {
     "name": "stdout",
     "output_type": "stream",
     "text": [
      "Feature map shape before flattening: torch.Size([1, 80, 14, 14])\n",
      "Feature map shape before flattening: torch.Size([1, 80, 14, 14])\n",
      "Feature map shape before flattening: torch.Size([1, 80, 14, 14])\n",
      "Feature map shape before flattening: torch.Size([1, 80, 14, 14])\n",
      "Feature map shape before flattening: torch.Size([1, 80, 14, 14])\n",
      "Feature map shape before flattening: torch.Size([1, 80, 14, 14])\n",
      "Feature map shape before flattening: torch.Size([1, 80, 14, 14])\n"
     ]
    },
    {
     "name": "stderr",
     "output_type": "stream",
     "text": [
      "Evaluating:  67%|█████████████████████████████████████████████▌                      | 660/984 [00:18<00:09, 35.26it/s]"
     ]
    },
    {
     "name": "stdout",
     "output_type": "stream",
     "text": [
      "Feature map shape before flattening: torch.Size([1, 80, 14, 14])\n",
      "Feature map shape before flattening: torch.Size([1, 80, 14, 14])\n",
      "Feature map shape before flattening: torch.Size([1, 80, 14, 14])\n",
      "Feature map shape before flattening: torch.Size([1, 80, 14, 14])\n",
      "Feature map shape before flattening: torch.Size([1, 80, 14, 14])\n",
      "Feature map shape before flattening: torch.Size([1, 80, 14, 14])\n",
      "Feature map shape before flattening: torch.Size([1, 80, 14, 14])\n",
      "Feature map shape before flattening: torch.Size([1, 80, 14, 14])\n"
     ]
    },
    {
     "name": "stderr",
     "output_type": "stream",
     "text": [
      "Evaluating:  68%|██████████████████████████████████████████████▏                     | 668/984 [00:18<00:08, 35.53it/s]"
     ]
    },
    {
     "name": "stdout",
     "output_type": "stream",
     "text": [
      "Feature map shape before flattening: torch.Size([1, 80, 14, 14])\n",
      "Feature map shape before flattening: torch.Size([1, 80, 14, 14])\n",
      "Feature map shape before flattening: torch.Size([1, 80, 14, 14])\n",
      "Feature map shape before flattening: torch.Size([1, 80, 14, 14])\n",
      "Feature map shape before flattening: torch.Size([1, 80, 14, 14])\n",
      "Feature map shape before flattening: torch.Size([1, 80, 14, 14])\n",
      "Feature map shape before flattening: torch.Size([1, 80, 14, 14])\n"
     ]
    },
    {
     "name": "stderr",
     "output_type": "stream",
     "text": [
      "Evaluating:  68%|██████████████████████████████████████████████▍                     | 672/984 [00:18<00:08, 35.71it/s]"
     ]
    },
    {
     "name": "stdout",
     "output_type": "stream",
     "text": [
      "Feature map shape before flattening: torch.Size([1, 80, 14, 14])\n",
      "Feature map shape before flattening: torch.Size([1, 80, 14, 14])\n",
      "Feature map shape before flattening: torch.Size([1, 80, 14, 14])\n",
      "Feature map shape before flattening: torch.Size([1, 80, 14, 14])\n",
      "Feature map shape before flattening: torch.Size([1, 80, 14, 14])\n",
      "Feature map shape before flattening: torch.Size([1, 80, 14, 14])\n",
      "Feature map shape before flattening: torch.Size([1, 80, 14, 14])\n",
      "Feature map shape before flattening: torch.Size([1, 80, 14, 14])\n"
     ]
    },
    {
     "name": "stderr",
     "output_type": "stream",
     "text": [
      "Evaluating:  69%|██████████████████████████████████████████████▉                     | 680/984 [00:19<00:08, 35.45it/s]"
     ]
    },
    {
     "name": "stdout",
     "output_type": "stream",
     "text": [
      "Feature map shape before flattening: torch.Size([1, 80, 14, 14])\n",
      "Feature map shape before flattening: torch.Size([1, 80, 14, 14])\n",
      "Feature map shape before flattening: torch.Size([1, 80, 14, 14])\n",
      "Feature map shape before flattening: torch.Size([1, 80, 14, 14])\n",
      "Feature map shape before flattening: torch.Size([1, 80, 14, 14])\n",
      "Feature map shape before flattening: torch.Size([1, 80, 14, 14])\n",
      "Feature map shape before flattening: torch.Size([1, 80, 14, 14])\n",
      "Feature map shape before flattening: torch.Size([1, 80, 14, 14])\n"
     ]
    },
    {
     "name": "stderr",
     "output_type": "stream",
     "text": [
      "Evaluating:  70%|███████████████████████████████████████████████▌                    | 688/984 [00:19<00:08, 34.99it/s]"
     ]
    },
    {
     "name": "stdout",
     "output_type": "stream",
     "text": [
      "Feature map shape before flattening: torch.Size([1, 80, 14, 14])\n",
      "Feature map shape before flattening: torch.Size([1, 80, 14, 14])\n",
      "Feature map shape before flattening: torch.Size([1, 80, 14, 14])\n",
      "Feature map shape before flattening: torch.Size([1, 80, 14, 14])\n",
      "Feature map shape before flattening: torch.Size([1, 80, 14, 14])\n",
      "Feature map shape before flattening: torch.Size([1, 80, 14, 14])\n",
      "Feature map shape before flattening: torch.Size([1, 80, 14, 14])\n",
      "Feature map shape before flattening: torch.Size([1, 80, 14, 14])\n"
     ]
    },
    {
     "name": "stderr",
     "output_type": "stream",
     "text": [
      "Evaluating:  71%|████████████████████████████████████████████████                    | 696/984 [00:19<00:08, 34.53it/s]"
     ]
    },
    {
     "name": "stdout",
     "output_type": "stream",
     "text": [
      "Feature map shape before flattening: torch.Size([1, 80, 14, 14])\n",
      "Feature map shape before flattening: torch.Size([1, 80, 14, 14])\n",
      "Feature map shape before flattening: torch.Size([1, 80, 14, 14])\n",
      "Feature map shape before flattening: torch.Size([1, 80, 14, 14])\n",
      "Feature map shape before flattening: torch.Size([1, 80, 14, 14])\n",
      "Feature map shape before flattening: torch.Size([1, 80, 14, 14])\n",
      "Feature map shape before flattening: torch.Size([1, 80, 14, 14])\n"
     ]
    },
    {
     "name": "stderr",
     "output_type": "stream",
     "text": [
      "Evaluating:  72%|████████████████████████████████████████████████▋                   | 704/984 [00:19<00:09, 30.07it/s]"
     ]
    },
    {
     "name": "stdout",
     "output_type": "stream",
     "text": [
      "Feature map shape before flattening: torch.Size([1, 80, 14, 14])\n",
      "Feature map shape before flattening: torch.Size([1, 80, 14, 14])\n",
      "Feature map shape before flattening: torch.Size([1, 80, 14, 14])\n",
      "Feature map shape before flattening: torch.Size([1, 80, 14, 14])\n",
      "Feature map shape before flattening: torch.Size([1, 80, 14, 14])\n",
      "Feature map shape before flattening: torch.Size([1, 80, 14, 14])\n"
     ]
    },
    {
     "name": "stderr",
     "output_type": "stream",
     "text": [
      "Evaluating:  72%|████████████████████████████████████████████████▉                   | 708/984 [00:19<00:09, 30.60it/s]"
     ]
    },
    {
     "name": "stdout",
     "output_type": "stream",
     "text": [
      "Feature map shape before flattening: torch.Size([1, 80, 14, 14])\n",
      "Feature map shape before flattening: torch.Size([1, 80, 14, 14])\n",
      "Feature map shape before flattening: torch.Size([1, 80, 14, 14])\n",
      "Feature map shape before flattening: torch.Size([1, 80, 14, 14])\n",
      "Feature map shape before flattening: torch.Size([1, 80, 14, 14])\n",
      "Feature map shape before flattening: torch.Size([1, 80, 14, 14])\n",
      "Feature map shape before flattening: torch.Size([1, 80, 14, 14])\n"
     ]
    },
    {
     "name": "stderr",
     "output_type": "stream",
     "text": [
      "Evaluating:  73%|█████████████████████████████████████████████████▍                  | 716/984 [00:20<00:08, 31.43it/s]"
     ]
    },
    {
     "name": "stdout",
     "output_type": "stream",
     "text": [
      "Feature map shape before flattening: torch.Size([1, 80, 14, 14])\n",
      "Feature map shape before flattening: torch.Size([1, 80, 14, 14])\n",
      "Feature map shape before flattening: torch.Size([1, 80, 14, 14])\n",
      "Feature map shape before flattening: torch.Size([1, 80, 14, 14])\n",
      "Feature map shape before flattening: torch.Size([1, 80, 14, 14])\n",
      "Feature map shape before flattening: torch.Size([1, 80, 14, 14])\n"
     ]
    },
    {
     "name": "stderr",
     "output_type": "stream",
     "text": [
      "Evaluating:  74%|██████████████████████████████████████████████████                  | 724/984 [00:20<00:08, 31.90it/s]"
     ]
    },
    {
     "name": "stdout",
     "output_type": "stream",
     "text": [
      "Feature map shape before flattening: torch.Size([1, 80, 14, 14])\n",
      "Feature map shape before flattening: torch.Size([1, 80, 14, 14])\n",
      "Feature map shape before flattening: torch.Size([1, 80, 14, 14])\n",
      "Feature map shape before flattening: torch.Size([1, 80, 14, 14])\n",
      "Feature map shape before flattening: torch.Size([1, 80, 14, 14])\n",
      "Feature map shape before flattening: torch.Size([1, 80, 14, 14])\n",
      "Feature map shape before flattening: torch.Size([1, 80, 14, 14])\n"
     ]
    },
    {
     "name": "stderr",
     "output_type": "stream",
     "text": [
      "Evaluating:  74%|██████████████████████████████████████████████████▌                 | 732/984 [00:20<00:07, 32.50it/s]"
     ]
    },
    {
     "name": "stdout",
     "output_type": "stream",
     "text": [
      "Feature map shape before flattening: torch.Size([1, 80, 14, 14])\n",
      "Feature map shape before flattening: torch.Size([1, 80, 14, 14])\n",
      "Feature map shape before flattening: torch.Size([1, 80, 14, 14])\n",
      "Feature map shape before flattening: torch.Size([1, 80, 14, 14])\n",
      "Feature map shape before flattening: torch.Size([1, 80, 14, 14])\n",
      "Feature map shape before flattening: torch.Size([1, 80, 14, 14])\n",
      "Feature map shape before flattening: torch.Size([1, 80, 14, 14])\n"
     ]
    },
    {
     "name": "stderr",
     "output_type": "stream",
     "text": [
      "Evaluating:  75%|██████████████████████████████████████████████████▊                 | 736/984 [00:20<00:07, 32.74it/s]"
     ]
    },
    {
     "name": "stdout",
     "output_type": "stream",
     "text": [
      "Feature map shape before flattening: torch.Size([1, 80, 14, 14])\n",
      "Feature map shape before flattening: torch.Size([1, 80, 14, 14])\n",
      "Feature map shape before flattening: torch.Size([1, 80, 14, 14])\n",
      "Feature map shape before flattening: torch.Size([1, 80, 14, 14])\n",
      "Feature map shape before flattening: torch.Size([1, 80, 14, 14])\n",
      "Feature map shape before flattening: torch.Size([1, 80, 14, 14])\n",
      "Feature map shape before flattening: torch.Size([1, 80, 14, 14])\n"
     ]
    },
    {
     "name": "stderr",
     "output_type": "stream",
     "text": [
      "Evaluating:  76%|███████████████████████████████████████████████████▍                | 744/984 [00:21<00:07, 32.99it/s]"
     ]
    },
    {
     "name": "stdout",
     "output_type": "stream",
     "text": [
      "Feature map shape before flattening: torch.Size([1, 80, 14, 14])\n",
      "Feature map shape before flattening: torch.Size([1, 80, 14, 14])\n",
      "Feature map shape before flattening: torch.Size([1, 80, 14, 14])\n",
      "Feature map shape before flattening: torch.Size([1, 80, 14, 14])\n",
      "Feature map shape before flattening: torch.Size([1, 80, 14, 14])\n",
      "Feature map shape before flattening: torch.Size([1, 80, 14, 14])\n",
      "Feature map shape before flattening: torch.Size([1, 80, 14, 14])\n"
     ]
    },
    {
     "name": "stderr",
     "output_type": "stream",
     "text": [
      "Evaluating:  76%|███████████████████████████████████████████████████▉                | 752/984 [00:21<00:06, 33.97it/s]"
     ]
    },
    {
     "name": "stdout",
     "output_type": "stream",
     "text": [
      "Feature map shape before flattening: torch.Size([1, 80, 14, 14])\n",
      "Feature map shape before flattening: torch.Size([1, 80, 14, 14])\n",
      "Feature map shape before flattening: torch.Size([1, 80, 14, 14])\n",
      "Feature map shape before flattening: torch.Size([1, 80, 14, 14])\n",
      "Feature map shape before flattening: torch.Size([1, 80, 14, 14])\n",
      "Feature map shape before flattening: torch.Size([1, 80, 14, 14])\n",
      "Feature map shape before flattening: torch.Size([1, 80, 14, 14])\n",
      "Feature map shape before flattening: torch.Size([1, 80, 14, 14])\n"
     ]
    },
    {
     "name": "stderr",
     "output_type": "stream",
     "text": [
      "Evaluating:  77%|████████████████████████████████████████████████████▌               | 760/984 [00:21<00:06, 34.14it/s]"
     ]
    },
    {
     "name": "stdout",
     "output_type": "stream",
     "text": [
      "Feature map shape before flattening: torch.Size([1, 80, 14, 14])\n",
      "Feature map shape before flattening: torch.Size([1, 80, 14, 14])\n",
      "Feature map shape before flattening: torch.Size([1, 80, 14, 14])\n",
      "Feature map shape before flattening: torch.Size([1, 80, 14, 14])\n",
      "Feature map shape before flattening: torch.Size([1, 80, 14, 14])\n",
      "Feature map shape before flattening: torch.Size([1, 80, 14, 14])\n",
      "Feature map shape before flattening: torch.Size([1, 80, 14, 14])\n",
      "Feature map shape before flattening: torch.Size([1, 80, 14, 14])\n"
     ]
    },
    {
     "name": "stderr",
     "output_type": "stream",
     "text": [
      "Evaluating:  78%|█████████████████████████████████████████████████████               | 768/984 [00:21<00:06, 33.84it/s]"
     ]
    },
    {
     "name": "stdout",
     "output_type": "stream",
     "text": [
      "Feature map shape before flattening: torch.Size([1, 80, 14, 14])\n",
      "Feature map shape before flattening: torch.Size([1, 80, 14, 14])\n",
      "Feature map shape before flattening: torch.Size([1, 80, 14, 14])\n",
      "Feature map shape before flattening: torch.Size([1, 80, 14, 14])\n",
      "Feature map shape before flattening: torch.Size([1, 80, 14, 14])\n",
      "Feature map shape before flattening: torch.Size([1, 80, 14, 14])\n",
      "Feature map shape before flattening: torch.Size([1, 80, 14, 14])\n",
      "Feature map shape before flattening: torch.Size([1, 80, 14, 14])\n"
     ]
    },
    {
     "name": "stderr",
     "output_type": "stream",
     "text": [
      "Evaluating:  79%|█████████████████████████████████████████████████████▋              | 776/984 [00:22<00:06, 34.31it/s]"
     ]
    },
    {
     "name": "stdout",
     "output_type": "stream",
     "text": [
      "Feature map shape before flattening: torch.Size([1, 80, 14, 14])\n",
      "Feature map shape before flattening: torch.Size([1, 80, 14, 14])\n",
      "Feature map shape before flattening: torch.Size([1, 80, 14, 14])\n",
      "Feature map shape before flattening: torch.Size([1, 80, 14, 14])\n",
      "Feature map shape before flattening: torch.Size([1, 80, 14, 14])\n",
      "Feature map shape before flattening: torch.Size([1, 80, 14, 14])\n",
      "Feature map shape before flattening: torch.Size([1, 80, 14, 14])\n"
     ]
    },
    {
     "name": "stderr",
     "output_type": "stream",
     "text": [
      "Evaluating:  80%|██████████████████████████████████████████████████████▏             | 784/984 [00:22<00:05, 34.95it/s]"
     ]
    },
    {
     "name": "stdout",
     "output_type": "stream",
     "text": [
      "Feature map shape before flattening: torch.Size([1, 80, 14, 14])\n",
      "Feature map shape before flattening: torch.Size([1, 80, 14, 14])\n",
      "Feature map shape before flattening: torch.Size([1, 80, 14, 14])\n",
      "Feature map shape before flattening: torch.Size([1, 80, 14, 14])\n",
      "Feature map shape before flattening: torch.Size([1, 80, 14, 14])\n",
      "Feature map shape before flattening: torch.Size([1, 80, 14, 14])\n",
      "Feature map shape before flattening: torch.Size([1, 80, 14, 14])\n",
      "Feature map shape before flattening: torch.Size([1, 80, 14, 14])\n"
     ]
    },
    {
     "name": "stderr",
     "output_type": "stream",
     "text": [
      "Evaluating:  80%|██████████████████████████████████████████████████████▋             | 792/984 [00:22<00:05, 36.22it/s]"
     ]
    },
    {
     "name": "stdout",
     "output_type": "stream",
     "text": [
      "Feature map shape before flattening: torch.Size([1, 80, 14, 14])\n",
      "Feature map shape before flattening: torch.Size([1, 80, 14, 14])\n",
      "Feature map shape before flattening: torch.Size([1, 80, 14, 14])\n",
      "Feature map shape before flattening: torch.Size([1, 80, 14, 14])\n",
      "Feature map shape before flattening: torch.Size([1, 80, 14, 14])\n",
      "Feature map shape before flattening: torch.Size([1, 80, 14, 14])\n",
      "Feature map shape before flattening: torch.Size([1, 80, 14, 14])\n",
      "Feature map shape before flattening: torch.Size([1, 80, 14, 14])\n"
     ]
    },
    {
     "name": "stderr",
     "output_type": "stream",
     "text": [
      "Evaluating:  81%|███████████████████████████████████████████████████████▎            | 800/984 [00:22<00:05, 35.05it/s]"
     ]
    },
    {
     "name": "stdout",
     "output_type": "stream",
     "text": [
      "Feature map shape before flattening: torch.Size([1, 80, 14, 14])\n",
      "Feature map shape before flattening: torch.Size([1, 80, 14, 14])\n",
      "Feature map shape before flattening: torch.Size([1, 80, 14, 14])\n",
      "Feature map shape before flattening: torch.Size([1, 80, 14, 14])\n",
      "Feature map shape before flattening: torch.Size([1, 80, 14, 14])\n",
      "Feature map shape before flattening: torch.Size([1, 80, 14, 14])\n",
      "Feature map shape before flattening: torch.Size([1, 80, 14, 14])\n",
      "Feature map shape before flattening: torch.Size([1, 80, 14, 14])\n"
     ]
    },
    {
     "name": "stderr",
     "output_type": "stream",
     "text": [
      "Evaluating:  82%|███████████████████████████████████████████████████████▊            | 808/984 [00:22<00:05, 35.15it/s]"
     ]
    },
    {
     "name": "stdout",
     "output_type": "stream",
     "text": [
      "Feature map shape before flattening: torch.Size([1, 80, 14, 14])\n",
      "Feature map shape before flattening: torch.Size([1, 80, 14, 14])\n",
      "Feature map shape before flattening: torch.Size([1, 80, 14, 14])\n",
      "Feature map shape before flattening: torch.Size([1, 80, 14, 14])\n",
      "Feature map shape before flattening: torch.Size([1, 80, 14, 14])\n",
      "Feature map shape before flattening: torch.Size([1, 80, 14, 14])\n",
      "Feature map shape before flattening: torch.Size([1, 80, 14, 14])\n",
      "Feature map shape before flattening: torch.Size([1, 80, 14, 14])\n"
     ]
    },
    {
     "name": "stderr",
     "output_type": "stream",
     "text": [
      "Evaluating:  83%|████████████████████████████████████████████████████████            | 812/984 [00:23<00:04, 35.22it/s]"
     ]
    },
    {
     "name": "stdout",
     "output_type": "stream",
     "text": [
      "Feature map shape before flattening: torch.Size([1, 80, 14, 14])\n",
      "Feature map shape before flattening: torch.Size([1, 80, 14, 14])\n",
      "Feature map shape before flattening: torch.Size([1, 80, 14, 14])\n",
      "Feature map shape before flattening: torch.Size([1, 80, 14, 14])\n",
      "Feature map shape before flattening: torch.Size([1, 80, 14, 14])\n",
      "Feature map shape before flattening: torch.Size([1, 80, 14, 14])\n",
      "Feature map shape before flattening: torch.Size([1, 80, 14, 14])\n"
     ]
    },
    {
     "name": "stderr",
     "output_type": "stream",
     "text": [
      "Evaluating:  83%|████████████████████████████████████████████████████████▋           | 820/984 [00:23<00:04, 33.76it/s]"
     ]
    },
    {
     "name": "stdout",
     "output_type": "stream",
     "text": [
      "Feature map shape before flattening: torch.Size([1, 80, 14, 14])\n",
      "Feature map shape before flattening: torch.Size([1, 80, 14, 14])\n",
      "Feature map shape before flattening: torch.Size([1, 80, 14, 14])\n",
      "Feature map shape before flattening: torch.Size([1, 80, 14, 14])\n",
      "Feature map shape before flattening: torch.Size([1, 80, 14, 14])\n",
      "Feature map shape before flattening: torch.Size([1, 80, 14, 14])\n",
      "Feature map shape before flattening: torch.Size([1, 80, 14, 14])\n",
      "Feature map shape before flattening: torch.Size([1, 80, 14, 14])\n"
     ]
    },
    {
     "name": "stderr",
     "output_type": "stream",
     "text": [
      "Evaluating:  84%|█████████████████████████████████████████████████████████▏          | 828/984 [00:23<00:04, 33.70it/s]"
     ]
    },
    {
     "name": "stdout",
     "output_type": "stream",
     "text": [
      "Feature map shape before flattening: torch.Size([1, 80, 14, 14])\n",
      "Feature map shape before flattening: torch.Size([1, 80, 14, 14])\n",
      "Feature map shape before flattening: torch.Size([1, 80, 14, 14])\n",
      "Feature map shape before flattening: torch.Size([1, 80, 14, 14])\n",
      "Feature map shape before flattening: torch.Size([1, 80, 14, 14])\n",
      "Feature map shape before flattening: torch.Size([1, 80, 14, 14])\n",
      "Feature map shape before flattening: torch.Size([1, 80, 14, 14])\n",
      "Feature map shape before flattening: torch.Size([1, 80, 14, 14])\n"
     ]
    },
    {
     "name": "stderr",
     "output_type": "stream",
     "text": [
      "Evaluating:  85%|█████████████████████████████████████████████████████████▊          | 836/984 [00:23<00:04, 34.03it/s]"
     ]
    },
    {
     "name": "stdout",
     "output_type": "stream",
     "text": [
      "Feature map shape before flattening: torch.Size([1, 80, 14, 14])\n",
      "Feature map shape before flattening: torch.Size([1, 80, 14, 14])\n",
      "Feature map shape before flattening: torch.Size([1, 80, 14, 14])\n",
      "Feature map shape before flattening: torch.Size([1, 80, 14, 14])\n",
      "Feature map shape before flattening: torch.Size([1, 80, 14, 14])\n",
      "Feature map shape before flattening: torch.Size([1, 80, 14, 14])\n",
      "Feature map shape before flattening: torch.Size([1, 80, 14, 14])\n",
      "Feature map shape before flattening: torch.Size([1, 80, 14, 14])\n"
     ]
    },
    {
     "name": "stderr",
     "output_type": "stream",
     "text": [
      "Evaluating:  86%|██████████████████████████████████████████████████████████▎         | 844/984 [00:23<00:04, 34.24it/s]"
     ]
    },
    {
     "name": "stdout",
     "output_type": "stream",
     "text": [
      "Feature map shape before flattening: torch.Size([1, 80, 14, 14])\n",
      "Feature map shape before flattening: torch.Size([1, 80, 14, 14])\n",
      "Feature map shape before flattening: torch.Size([1, 80, 14, 14])\n",
      "Feature map shape before flattening: torch.Size([1, 80, 14, 14])\n",
      "Feature map shape before flattening: torch.Size([1, 80, 14, 14])\n",
      "Feature map shape before flattening: torch.Size([1, 80, 14, 14])\n",
      "Feature map shape before flattening: torch.Size([1, 80, 14, 14])\n",
      "Feature map shape before flattening: torch.Size([1, 80, 14, 14])\n"
     ]
    },
    {
     "name": "stderr",
     "output_type": "stream",
     "text": [
      "Evaluating:  87%|██████████████████████████████████████████████████████████▉         | 852/984 [00:24<00:03, 33.89it/s]"
     ]
    },
    {
     "name": "stdout",
     "output_type": "stream",
     "text": [
      "Feature map shape before flattening: torch.Size([1, 80, 14, 14])\n",
      "Feature map shape before flattening: torch.Size([1, 80, 14, 14])\n",
      "Feature map shape before flattening: torch.Size([1, 80, 14, 14])\n",
      "Feature map shape before flattening: torch.Size([1, 80, 14, 14])\n",
      "Feature map shape before flattening: torch.Size([1, 80, 14, 14])\n",
      "Feature map shape before flattening: torch.Size([1, 80, 14, 14])\n",
      "Feature map shape before flattening: torch.Size([1, 80, 14, 14])\n",
      "Feature map shape before flattening: torch.Size([1, 80, 14, 14])\n"
     ]
    },
    {
     "name": "stderr",
     "output_type": "stream",
     "text": [
      "Evaluating:  87%|███████████████████████████████████████████████████████████▍        | 860/984 [00:24<00:03, 35.45it/s]"
     ]
    },
    {
     "name": "stdout",
     "output_type": "stream",
     "text": [
      "Feature map shape before flattening: torch.Size([1, 80, 14, 14])\n",
      "Feature map shape before flattening: torch.Size([1, 80, 14, 14])\n",
      "Feature map shape before flattening: torch.Size([1, 80, 14, 14])\n",
      "Feature map shape before flattening: torch.Size([1, 80, 14, 14])\n",
      "Feature map shape before flattening: torch.Size([1, 80, 14, 14])\n",
      "Feature map shape before flattening: torch.Size([1, 80, 14, 14])\n",
      "Feature map shape before flattening: torch.Size([1, 80, 14, 14])\n"
     ]
    },
    {
     "name": "stderr",
     "output_type": "stream",
     "text": [
      "Evaluating:  88%|███████████████████████████████████████████████████████████▉        | 868/984 [00:24<00:03, 35.66it/s]"
     ]
    },
    {
     "name": "stdout",
     "output_type": "stream",
     "text": [
      "Feature map shape before flattening: torch.Size([1, 80, 14, 14])\n",
      "Feature map shape before flattening: torch.Size([1, 80, 14, 14])\n",
      "Feature map shape before flattening: torch.Size([1, 80, 14, 14])\n",
      "Feature map shape before flattening: torch.Size([1, 80, 14, 14])\n",
      "Feature map shape before flattening: torch.Size([1, 80, 14, 14])\n",
      "Feature map shape before flattening: torch.Size([1, 80, 14, 14])\n",
      "Feature map shape before flattening: torch.Size([1, 80, 14, 14])\n",
      "Feature map shape before flattening: torch.Size([1, 80, 14, 14])\n"
     ]
    },
    {
     "name": "stderr",
     "output_type": "stream",
     "text": [
      "Evaluating:  89%|████████████████████████████████████████████████████████████▌       | 876/984 [00:24<00:03, 32.74it/s]"
     ]
    },
    {
     "name": "stdout",
     "output_type": "stream",
     "text": [
      "Feature map shape before flattening: torch.Size([1, 80, 14, 14])\n",
      "Feature map shape before flattening: torch.Size([1, 80, 14, 14])\n",
      "Feature map shape before flattening: torch.Size([1, 80, 14, 14])\n",
      "Feature map shape before flattening: torch.Size([1, 80, 14, 14])\n",
      "Feature map shape before flattening: torch.Size([1, 80, 14, 14])\n",
      "Feature map shape before flattening: torch.Size([1, 80, 14, 14])\n",
      "Feature map shape before flattening: torch.Size([1, 80, 14, 14])\n"
     ]
    },
    {
     "name": "stderr",
     "output_type": "stream",
     "text": [
      "Evaluating:  90%|█████████████████████████████████████████████████████████████       | 884/984 [00:25<00:03, 32.30it/s]"
     ]
    },
    {
     "name": "stdout",
     "output_type": "stream",
     "text": [
      "Feature map shape before flattening: torch.Size([1, 80, 14, 14])\n",
      "Feature map shape before flattening: torch.Size([1, 80, 14, 14])\n",
      "Feature map shape before flattening: torch.Size([1, 80, 14, 14])\n",
      "Feature map shape before flattening: torch.Size([1, 80, 14, 14])\n",
      "Feature map shape before flattening: torch.Size([1, 80, 14, 14])\n",
      "Feature map shape before flattening: torch.Size([1, 80, 14, 14])\n",
      "Feature map shape before flattening: torch.Size([1, 80, 14, 14])\n"
     ]
    },
    {
     "name": "stderr",
     "output_type": "stream",
     "text": [
      "Evaluating:  90%|█████████████████████████████████████████████████████████████▎      | 888/984 [00:25<00:02, 33.15it/s]"
     ]
    },
    {
     "name": "stdout",
     "output_type": "stream",
     "text": [
      "Feature map shape before flattening: torch.Size([1, 80, 14, 14])\n",
      "Feature map shape before flattening: torch.Size([1, 80, 14, 14])\n",
      "Feature map shape before flattening: torch.Size([1, 80, 14, 14])\n",
      "Feature map shape before flattening: torch.Size([1, 80, 14, 14])\n",
      "Feature map shape before flattening: torch.Size([1, 80, 14, 14])\n",
      "Feature map shape before flattening: torch.Size([1, 80, 14, 14])\n",
      "Feature map shape before flattening: torch.Size([1, 80, 14, 14])\n"
     ]
    },
    {
     "name": "stderr",
     "output_type": "stream",
     "text": [
      "Evaluating:  91%|█████████████████████████████████████████████████████████████▉      | 896/984 [00:25<00:02, 33.38it/s]"
     ]
    },
    {
     "name": "stdout",
     "output_type": "stream",
     "text": [
      "Feature map shape before flattening: torch.Size([1, 80, 14, 14])\n",
      "Feature map shape before flattening: torch.Size([1, 80, 14, 14])\n",
      "Feature map shape before flattening: torch.Size([1, 80, 14, 14])\n",
      "Feature map shape before flattening: torch.Size([1, 80, 14, 14])\n",
      "Feature map shape before flattening: torch.Size([1, 80, 14, 14])\n",
      "Feature map shape before flattening: torch.Size([1, 80, 14, 14])\n",
      "Feature map shape before flattening: torch.Size([1, 80, 14, 14])\n"
     ]
    },
    {
     "name": "stderr",
     "output_type": "stream",
     "text": [
      "Evaluating:  92%|██████████████████████████████████████████████████████████████▍     | 904/984 [00:25<00:02, 33.30it/s]"
     ]
    },
    {
     "name": "stdout",
     "output_type": "stream",
     "text": [
      "Feature map shape before flattening: torch.Size([1, 80, 14, 14])\n",
      "Feature map shape before flattening: torch.Size([1, 80, 14, 14])\n",
      "Feature map shape before flattening: torch.Size([1, 80, 14, 14])\n",
      "Feature map shape before flattening: torch.Size([1, 80, 14, 14])\n",
      "Feature map shape before flattening: torch.Size([1, 80, 14, 14])\n",
      "Feature map shape before flattening: torch.Size([1, 80, 14, 14])\n",
      "Feature map shape before flattening: torch.Size([1, 80, 14, 14])\n"
     ]
    },
    {
     "name": "stderr",
     "output_type": "stream",
     "text": [
      "Evaluating:  93%|███████████████████████████████████████████████████████████████     | 912/984 [00:25<00:02, 34.26it/s]"
     ]
    },
    {
     "name": "stdout",
     "output_type": "stream",
     "text": [
      "Feature map shape before flattening: torch.Size([1, 80, 14, 14])\n",
      "Feature map shape before flattening: torch.Size([1, 80, 14, 14])\n",
      "Feature map shape before flattening: torch.Size([1, 80, 14, 14])\n",
      "Feature map shape before flattening: torch.Size([1, 80, 14, 14])\n",
      "Feature map shape before flattening: torch.Size([1, 80, 14, 14])\n",
      "Feature map shape before flattening: torch.Size([1, 80, 14, 14])\n",
      "Feature map shape before flattening: torch.Size([1, 80, 14, 14])\n",
      "Feature map shape before flattening: torch.Size([1, 80, 14, 14])\n"
     ]
    },
    {
     "name": "stderr",
     "output_type": "stream",
     "text": [
      "Evaluating:  93%|███████████████████████████████████████████████████████████████▌    | 920/984 [00:26<00:01, 34.49it/s]"
     ]
    },
    {
     "name": "stdout",
     "output_type": "stream",
     "text": [
      "Feature map shape before flattening: torch.Size([1, 80, 14, 14])\n",
      "Feature map shape before flattening: torch.Size([1, 80, 14, 14])\n",
      "Feature map shape before flattening: torch.Size([1, 80, 14, 14])\n",
      "Feature map shape before flattening: torch.Size([1, 80, 14, 14])\n",
      "Feature map shape before flattening: torch.Size([1, 80, 14, 14])\n",
      "Feature map shape before flattening: torch.Size([1, 80, 14, 14])\n",
      "Feature map shape before flattening: torch.Size([1, 80, 14, 14])\n",
      "Feature map shape before flattening: torch.Size([1, 80, 14, 14])\n"
     ]
    },
    {
     "name": "stderr",
     "output_type": "stream",
     "text": [
      "Evaluating:  94%|████████████████████████████████████████████████████████████████▏   | 928/984 [00:26<00:01, 34.34it/s]"
     ]
    },
    {
     "name": "stdout",
     "output_type": "stream",
     "text": [
      "Feature map shape before flattening: torch.Size([1, 80, 14, 14])\n",
      "Feature map shape before flattening: torch.Size([1, 80, 14, 14])\n",
      "Feature map shape before flattening: torch.Size([1, 80, 14, 14])\n",
      "Feature map shape before flattening: torch.Size([1, 80, 14, 14])\n",
      "Feature map shape before flattening: torch.Size([1, 80, 14, 14])\n",
      "Feature map shape before flattening: torch.Size([1, 80, 14, 14])\n",
      "Feature map shape before flattening: torch.Size([1, 80, 14, 14])\n",
      "Feature map shape before flattening: torch.Size([1, 80, 14, 14])\n"
     ]
    },
    {
     "name": "stderr",
     "output_type": "stream",
     "text": [
      "Evaluating:  95%|████████████████████████████████████████████████████████████████▋   | 936/984 [00:26<00:01, 34.22it/s]"
     ]
    },
    {
     "name": "stdout",
     "output_type": "stream",
     "text": [
      "Feature map shape before flattening: torch.Size([1, 80, 14, 14])\n",
      "Feature map shape before flattening: torch.Size([1, 80, 14, 14])\n",
      "Feature map shape before flattening: torch.Size([1, 80, 14, 14])\n",
      "Feature map shape before flattening: torch.Size([1, 80, 14, 14])\n",
      "Feature map shape before flattening: torch.Size([1, 80, 14, 14])\n",
      "Feature map shape before flattening: torch.Size([1, 80, 14, 14])\n",
      "Feature map shape before flattening: torch.Size([1, 80, 14, 14])\n",
      "Feature map shape before flattening: torch.Size([1, 80, 14, 14])\n"
     ]
    },
    {
     "name": "stderr",
     "output_type": "stream",
     "text": [
      "Evaluating:  96%|█████████████████████████████████████████████████████████████████▏  | 944/984 [00:26<00:01, 34.31it/s]"
     ]
    },
    {
     "name": "stdout",
     "output_type": "stream",
     "text": [
      "Feature map shape before flattening: torch.Size([1, 80, 14, 14])\n",
      "Feature map shape before flattening: torch.Size([1, 80, 14, 14])\n",
      "Feature map shape before flattening: torch.Size([1, 80, 14, 14])\n",
      "Feature map shape before flattening: torch.Size([1, 80, 14, 14])\n",
      "Feature map shape before flattening: torch.Size([1, 80, 14, 14])\n",
      "Feature map shape before flattening: torch.Size([1, 80, 14, 14])\n",
      "Feature map shape before flattening: torch.Size([1, 80, 14, 14])\n",
      "Feature map shape before flattening: torch.Size([1, 80, 14, 14])\n"
     ]
    },
    {
     "name": "stderr",
     "output_type": "stream",
     "text": [
      "Evaluating:  97%|█████████████████████████████████████████████████████████████████▊  | 952/984 [00:27<00:00, 33.66it/s]"
     ]
    },
    {
     "name": "stdout",
     "output_type": "stream",
     "text": [
      "Feature map shape before flattening: torch.Size([1, 80, 14, 14])\n",
      "Feature map shape before flattening: torch.Size([1, 80, 14, 14])\n",
      "Feature map shape before flattening: torch.Size([1, 80, 14, 14])\n",
      "Feature map shape before flattening: torch.Size([1, 80, 14, 14])\n",
      "Feature map shape before flattening: torch.Size([1, 80, 14, 14])\n",
      "Feature map shape before flattening: torch.Size([1, 80, 14, 14])\n",
      "Feature map shape before flattening: torch.Size([1, 80, 14, 14])\n",
      "Feature map shape before flattening: torch.Size([1, 80, 14, 14])\n"
     ]
    },
    {
     "name": "stderr",
     "output_type": "stream",
     "text": [
      "Evaluating:  98%|██████████████████████████████████████████████████████████████████▎ | 960/984 [00:27<00:00, 33.51it/s]"
     ]
    },
    {
     "name": "stdout",
     "output_type": "stream",
     "text": [
      "Feature map shape before flattening: torch.Size([1, 80, 14, 14])\n",
      "Feature map shape before flattening: torch.Size([1, 80, 14, 14])\n",
      "Feature map shape before flattening: torch.Size([1, 80, 14, 14])\n",
      "Feature map shape before flattening: torch.Size([1, 80, 14, 14])\n",
      "Feature map shape before flattening: torch.Size([1, 80, 14, 14])\n",
      "Feature map shape before flattening: torch.Size([1, 80, 14, 14])\n",
      "Feature map shape before flattening: torch.Size([1, 80, 14, 14])\n"
     ]
    },
    {
     "name": "stderr",
     "output_type": "stream",
     "text": [
      "Evaluating:  98%|██████████████████████████████████████████████████████████████████▉ | 968/984 [00:27<00:00, 32.90it/s]"
     ]
    },
    {
     "name": "stdout",
     "output_type": "stream",
     "text": [
      "Feature map shape before flattening: torch.Size([1, 80, 14, 14])\n",
      "Feature map shape before flattening: torch.Size([1, 80, 14, 14])\n",
      "Feature map shape before flattening: torch.Size([1, 80, 14, 14])\n",
      "Feature map shape before flattening: torch.Size([1, 80, 14, 14])\n",
      "Feature map shape before flattening: torch.Size([1, 80, 14, 14])\n",
      "Feature map shape before flattening: torch.Size([1, 80, 14, 14])\n",
      "Feature map shape before flattening: torch.Size([1, 80, 14, 14])\n",
      "Feature map shape before flattening: torch.Size([1, 80, 14, 14])\n"
     ]
    },
    {
     "name": "stderr",
     "output_type": "stream",
     "text": [
      "Evaluating:  99%|███████████████████████████████████████████████████████████████████▏| 972/984 [00:27<00:00, 32.96it/s]"
     ]
    },
    {
     "name": "stdout",
     "output_type": "stream",
     "text": [
      "Feature map shape before flattening: torch.Size([1, 80, 14, 14])\n",
      "Feature map shape before flattening: torch.Size([1, 80, 14, 14])\n",
      "Feature map shape before flattening: torch.Size([1, 80, 14, 14])\n",
      "Feature map shape before flattening: torch.Size([1, 80, 14, 14])\n",
      "Feature map shape before flattening: torch.Size([1, 80, 14, 14])\n",
      "Feature map shape before flattening: torch.Size([1, 80, 14, 14])\n",
      "Feature map shape before flattening: torch.Size([1, 80, 14, 14])\n"
     ]
    },
    {
     "name": "stderr",
     "output_type": "stream",
     "text": [
      "Evaluating: 100%|███████████████████████████████████████████████████████████████████▋| 980/984 [00:28<00:00, 33.17it/s]"
     ]
    },
    {
     "name": "stdout",
     "output_type": "stream",
     "text": [
      "Feature map shape before flattening: torch.Size([1, 80, 14, 14])\n",
      "Feature map shape before flattening: torch.Size([1, 80, 14, 14])\n",
      "Feature map shape before flattening: torch.Size([1, 80, 14, 14])\n",
      "Feature map shape before flattening: torch.Size([1, 80, 14, 14])\n",
      "Feature map shape before flattening: torch.Size([1, 80, 14, 14])\n",
      "Feature map shape before flattening: torch.Size([1, 80, 14, 14])\n",
      "Feature map shape before flattening: torch.Size([1, 80, 14, 14])\n"
     ]
    },
    {
     "name": "stderr",
     "output_type": "stream",
     "text": [
      "Evaluating: 100%|████████████████████████████████████████████████████████████████████| 984/984 [00:28<00:00, 34.97it/s]"
     ]
    },
    {
     "name": "stdout",
     "output_type": "stream",
     "text": [
      "Feature map shape before flattening: torch.Size([1, 80, 14, 14])\n",
      "Confusion Matrix:\n",
      "[[458  40]\n",
      " [ 65 421]]\n",
      "\n",
      "Recall Score: 0.8662551440329218\n",
      "\n",
      "Classification Report:\n",
      "               precision    recall  f1-score   support\n",
      "\n",
      "      Benign       0.88      0.92      0.90       498\n",
      "    Melanoma       0.91      0.87      0.89       486\n",
      "\n",
      "    accuracy                           0.89       984\n",
      "   macro avg       0.89      0.89      0.89       984\n",
      "weighted avg       0.89      0.89      0.89       984\n",
      "\n"
     ]
    },
    {
     "name": "stderr",
     "output_type": "stream",
     "text": [
      "\n"
     ]
    }
   ],
   "source": [
    "import os\n",
    "import numpy as np\n",
    "import torch\n",
    "import torchvision.transforms as transforms\n",
    "from PIL import Image\n",
    "import matplotlib.pyplot as plt\n",
    "from pathlib import Path\n",
    "from sklearn.metrics import confusion_matrix, recall_score, classification_report\n",
    "from tqdm import tqdm\n",
    "\n",
    "# =========================\n",
    "# Load Models\n",
    "# =========================\n",
    "from model import UNet  # Ensure this is your UNet architecture\n",
    "\n",
    "device = torch.device(\"cuda\" if torch.cuda.is_available() else \"cpu\")\n",
    "\n",
    "# Load segmentation model\n",
    "seg_model = UNet(n_channels=3, n_classes=1, bilinear=False)\n",
    "seg_model.load_state_dict(torch.load(\n",
    "    'C:/Users/Fourth/models/unet_dice0.8369_save1746204838.pt',\n",
    "    map_location=device\n",
    "))\n",
    "seg_model.to(device).eval()\n",
    "\n",
    "# Load classification model\n",
    "MODEL_PATH = Path(\"saved models\")\n",
    "MODEL_FILE = MODEL_PATH / \"model_with-UNET_epoch16+3+16_acc0.9024_thres0.2_minpixel5000_batch32.pth\"\n",
    "checkpoint = torch.load(MODEL_FILE)\n",
    "model_0.load_state_dict(checkpoint[\"model_state_dict\"])\n",
    "model_0.to(device).eval()\n",
    "\n",
    "# =========================\n",
    "# Transforms and Cropping\n",
    "# =========================\n",
    "'''def circular_crop(img):\n",
    "    \"\"\"Optional: Apply a central circular crop to the image.\"\"\"\n",
    "    np_img = np.array(img)\n",
    "    h, w = np_img.shape[:2]\n",
    "    mask = np.zeros((h, w), dtype=np.uint8)\n",
    "    center = (w // 2, h // 2)\n",
    "    radius = min(center[0], center[1], w - center[0], h - center[1])\n",
    "    y, x = np.ogrid[:h, :w]\n",
    "    mask_area = (x - center[0])**2 + (y - center[1])**2 <= radius**2\n",
    "    mask[mask_area] = 1\n",
    "    np_img = np_img * mask[:, :, np.newaxis]\n",
    "    return Image.fromarray(np_img)'''\n",
    "\n",
    "def circular_crop(img, radius_ratio=0.4):\n",
    "    w, h = img.size\n",
    "    r = int(min(w, h) * radius_ratio)\n",
    "    cx, cy = w // 2, h // 2\n",
    "\n",
    "    mask = Image.new('L', (w, h), 0)\n",
    "    draw = ImageDraw.Draw(mask)\n",
    "    draw.ellipse((cx - r, cy - r, cx + r, cy + r), fill=255)\n",
    "\n",
    "    result = Image.new(\"RGB\", (w, h))\n",
    "    result.paste(img, mask=mask)\n",
    "    return result  # ✅ Return the masked (circularly cropped) image\n",
    "\n",
    "segmentation_transform = transforms.Compose([\n",
    "    transforms.Resize((300, 300)),\n",
    "    transforms.ToTensor()\n",
    "])\n",
    "\n",
    "classification_transform = transforms.Compose([\n",
    "    transforms.Resize((224, 224)),\n",
    "    transforms.ToTensor()\n",
    "])\n",
    "\n",
    "# =========================\n",
    "# Inference Function\n",
    "# =========================\n",
    "def predict_melanoma(image_path, seg_model, clf_model, threshold=0.5, min_pixels=5000):\n",
    "    original_image = Image.open(image_path).convert(\"RGB\")\n",
    "\n",
    "    # Segment\n",
    "    seg_input = segmentation_transform(original_image).unsqueeze(0).to(device)\n",
    "    with torch.no_grad():\n",
    "        mask_pred = seg_model(seg_input)\n",
    "        mask_pred = (mask_pred > threshold).float()\n",
    "\n",
    "    mask_np = mask_pred.squeeze().cpu().numpy()\n",
    "    pixel_count = (mask_np > 0).sum()\n",
    "\n",
    "    if pixel_count < min_pixels:\n",
    "        processed_image = circular_crop(original_image)\n",
    "        final_mask = None\n",
    "    else:\n",
    "        mask_resized = Image.fromarray((mask_np * 255).astype(\"uint8\")).resize(original_image.size)\n",
    "        mask_np_resized = np.array(mask_resized) / 255.0\n",
    "        image_np = np.array(original_image)\n",
    "        mask_np_exp = np.expand_dims(mask_np_resized, axis=-1)\n",
    "        segmented_np = (image_np * mask_np_exp).astype(\"uint8\")\n",
    "        processed_image = Image.fromarray(segmented_np)\n",
    "        final_mask = mask_resized\n",
    "\n",
    "    clf_input = classification_transform(processed_image).unsqueeze(0).to(device)\n",
    "    with torch.no_grad():\n",
    "        output = clf_model(clf_input)\n",
    "        prob = torch.sigmoid(output).item()\n",
    "\n",
    "    return prob, original_image, final_mask, processed_image\n",
    "\n",
    "# =========================\n",
    "# Build Test Dataset\n",
    "# =========================\n",
    "test_root = r\"C:\\Users\\Fourth\\data\\melanoma_cancer_dataset\\test\"\n",
    "test_dataset = []\n",
    "\n",
    "for label_dir, label in [(\"benign\", 0), (\"malignant\", 1)]:\n",
    "    dir_path = os.path.join(test_root, label_dir)\n",
    "    for filename in os.listdir(dir_path):\n",
    "        if filename.lower().endswith((\".jpg\", \".jpeg\", \".png\")):\n",
    "            full_path = os.path.join(dir_path, filename)\n",
    "            test_dataset.append((full_path, label))\n",
    "\n",
    "# =========================\n",
    "# Run Evaluation\n",
    "# =========================\n",
    "y_true = []\n",
    "y_pred = []\n",
    "y_prob = []\n",
    "\n",
    "for image_path, label in tqdm(test_dataset, desc=\"Evaluating\"):\n",
    "    prob, _, _, _ = predict_melanoma(image_path, seg_model, model_0)\n",
    "    pred = 1 if prob > 0.5 else 0  # Adjust threshold here if needed\n",
    "\n",
    "    y_true.append(label)\n",
    "    y_pred.append(pred)\n",
    "    y_prob.append(prob)\n",
    "\n",
    "# =========================\n",
    "# Print Metrics\n",
    "# =========================\n",
    "cm = confusion_matrix(y_true, y_pred)\n",
    "recall = recall_score(y_true, y_pred)\n",
    "report = classification_report(y_true, y_pred, target_names=[\"Benign\", \"Melanoma\"])\n",
    "\n",
    "print(\"Confusion Matrix:\")\n",
    "print(cm)\n",
    "print(\"\\nRecall Score:\", recall)\n",
    "print(\"\\nClassification Report:\\n\", report)\n"
   ]
  },
  {
   "cell_type": "code",
   "execution_count": 7,
   "id": "b010cf73-300a-4155-9be8-d3cc91270fe3",
   "metadata": {},
   "outputs": [
    {
     "data": {
      "image/png": "[encoded data removed]",
      "text/plain": [
       "<Figure size 600x500 with 2 Axes>"
      ]
     },
     "metadata": {},
     "output_type": "display_data"
    }
   ],
   "source": [
    "import matplotlib.pyplot as plt\n",
    "import numpy as np\n",
    "from sklearn.metrics import confusion_matrix\n",
    "\n",
    "# Compute confusion matrix (if not already done)\n",
    "cm = confusion_matrix(y_true, y_pred)\n",
    "class_names = [\"Benign\", \"Melanoma\"]\n",
    "\n",
    "plt.figure(figsize=(6, 5))\n",
    "plt.imshow(cm, interpolation='nearest', cmap=plt.cm.Blues)\n",
    "plt.title(\"Confusion Matrix\")\n",
    "plt.colorbar()\n",
    "\n",
    "tick_marks = np.arange(len(class_names))\n",
    "plt.xticks(tick_marks, class_names)\n",
    "plt.yticks(tick_marks, class_names)\n",
    "\n",
    "# Annotate each cell with the numeric count\n",
    "thresh = cm.max() / 2\n",
    "for i in range(cm.shape[0]):\n",
    "    for j in range(cm.shape[1]):\n",
    "        plt.text(j, i, format(cm[i, j], 'd'),\n",
    "                 ha=\"center\", va=\"center\",\n",
    "                 color=\"white\" if cm[i, j] > thresh else \"black\")\n",
    "\n",
    "plt.ylabel(\"True Label\")\n",
    "plt.xlabel(\"Predicted Label\")\n",
    "plt.tight_layout()\n",
    "plt.show()\n"
   ]
  },
  {
   "cell_type": "code",
   "execution_count": null,
   "id": "11c61142-e5b6-4161-aee6-537a5c231861",
   "metadata": {},
   "outputs": [],
   "source": []
  }
 ],
 "metadata": {
  "kernelspec": {
   "display_name": "Python 3 (ipykernel)",
   "language": "python",
   "name": "python3"
  },
  "language_info": {
   "codemirror_mode": {
    "name": "ipython",
    "version": 3
   },
   "file_extension": ".py",
   "mimetype": "text/x-python",
   "name": "python",
   "nbconvert_exporter": "python",
   "pygments_lexer": "ipython3",
   "version": "3.11.9"
  }
 },
 "nbformat": 4,
 "nbformat_minor": 5
}
